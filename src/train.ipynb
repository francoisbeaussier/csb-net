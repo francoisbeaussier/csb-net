{
 "cells": [
  {
   "cell_type": "code",
   "execution_count": 140,
   "metadata": {},
   "outputs": [],
   "source": [
    "from IPython.display import Markdown, display\n",
    "\n",
    "def printmd(string):\n",
    "    display(Markdown(string))\n"
   ]
  },
  {
   "cell_type": "code",
   "execution_count": 179,
   "metadata": {},
   "outputs": [
    {
     "name": "stdout",
     "output_type": "stream",
     "text": [
      "Columns: Index(['p1x', 'p1y', 'p1sx', 'p1sy', 'p1a', 'p1wx', 'p1wy', 'tf1', 'pf1',\n",
      "       'p2x', 'p2y', 'p2sx', 'p2sy', 'p2a', 'p2wx', 'p2wy', 'tf2', 'pf2',\n",
      "       'p3x', 'p3y', 'p3sx', 'p3sy', 'p3a', 'p3wx', 'p3wy', 'tf3', 'pf3',\n",
      "       'p4x', 'p4y', 'p4sx', 'p4sy', 'p4a', 'p4wx', 'p4wy', 'tf4', 'pf4',\n",
      "       'p1tx', 'p1ty', 'p1t', 'p2tx', 'p2ty', 'p2t'],\n",
      "      dtype='object')\n",
      "(20687, 42)\n",
      "        p1x   p1y  p1sx  p1sy       p1a   p1wx  p1wy  tf1  pf1   p2x  ...  \\\n",
      "20682  8090  1724   306   134  0.881515  10310  3336    1    1  7828  ...   \n",
      "20683  8463  1932   317   176  0.833732  10310  3336    1    1  7655  ...   \n",
      "20684  8850  2179   329   209  0.790177  10310  3336    1    1  7499  ...   \n",
      "20685  9251  2458   340   237  0.773387  10310  3336    1    1  7365  ...   \n",
      "20686  9662  2765   349   260  0.775194  10310  3336    1    1  7258  ...   \n",
      "\n",
      "        p4wx  p4wy  tf4  pf4   p1tx  p1ty  p1t  p2tx  p2ty  p2t  \n",
      "20682  11176  5442    0    0   6378  4008  100  7153  6313  100  \n",
      "20683   7261  6670    0    0   6193  4043  100 -8989  6051  100  \n",
      "20684   7261  6670    0    0  10824  4365  100 -8973  4037  100  \n",
      "20685   7261  6670    0    0  10613  4221  100 -8812  2327  100  \n",
      "20686   7261  6670    0    0  10423  3988  100 -8520   631  100  \n",
      "\n",
      "[5 rows x 42 columns]\n",
      "    p1tx   p1ty  p1t   p2tx   p2ty  p2t\n",
      "0  25601  17548  100  27226  15331  100\n",
      "1  24506  19533  100  30435   7924  100\n",
      "2  24474  20329  100  31033   7694  100\n",
      "3  24379  21160  100  31619   7539  100\n",
      "4  24136  22076  100  32208   7055  100\n",
      "       p1tx      p1ty  p1t      p2tx      p2ty  p2t\n",
      "0  0.824834  0.565376  100  0.871352  0.490659  100\n",
      "1  0.781985  0.623297  100  0.967738  0.251958  100\n",
      "2  0.769241  0.638959  100  0.970613  0.240644  100\n",
      "3  0.755205  0.655488  100  0.972732  0.231931  100\n",
      "4  0.737895  0.674916  100  0.976840  0.213972  100\n"
     ]
    }
   ],
   "source": [
    "# filepath = 'C:/dev/csb-net/extracted/reCurse/2843387/frames_reCurse_2843387.csv'\n",
    "filepath = 'C:/dev/csb-net/parsed/aelyanne/2697232/frames_aelyanne_2697232.csv'\n",
    "\n",
    "import math\n",
    "import numpy as np\n",
    "import pandas as pd\n",
    "\n",
    "df = pd.read_csv(filepath, index_col=False)\n",
    "print('Columns:', df.columns)\n",
    "#df.describe()\n",
    "# df.head()\n",
    "\n",
    "def augment(df, orig_data, dx, dy):\n",
    "    x_cols = ['p1x', 'p2x', 'p3x', 'p4x', 'p1wx', 'p2wx', 'p3wx', 'p4wx', 'p1tx', 'p2tx']\n",
    "    y_cols = ['p1y', 'p2y', 'p3y', 'p4y', 'p1wy', 'p2wy', 'p3wy', 'p4wy', 'p1ty', 'p2ty']\n",
    "    translated = df2.copy()\n",
    "#     print('translated\\n', translated.head())\n",
    "    translated.loc[:, x_cols] += dx\n",
    "    translated.loc[:, y_cols] += dy\n",
    "    print(dx, dy, df.shape)\n",
    "#     print('translated\\n', translated.head())\n",
    "    return pd.concat([df, translated])\n",
    "\n",
    "# print(df.shape)\n",
    "# print(df.tail())\n",
    "\n",
    "orig_data = df.copy()\n",
    "\n",
    "# The walrus operator is new in python 3.8 \n",
    "# [df := augment(df, orig_data, dx, dy) for dx in range(-150, 150, 100) for dy in range(-150, 150, 100)] \n",
    "\n",
    "print(df.shape)\n",
    "print(df.tail())\n",
    "\n",
    "y = pd.concat([df.pop(x) for x in ['p1tx', 'p1ty', 'p1t', 'p2tx', 'p2ty', 'p2t']], 1)\n",
    "X = df\n",
    "print(y.head())\n",
    "\n",
    "from sklearn import preprocessing\n",
    "\n",
    "y[['p1tx', 'p1ty']] = preprocessing.normalize(y[['p1tx', 'p1ty']], norm='l2')\n",
    "y[['p2tx', 'p2ty']] = preprocessing.normalize(y[['p2tx', 'p2ty']], norm='l2')\n",
    "\n",
    "print(y.head())\n",
    "# print(X.head())\n"
   ]
  },
  {
   "cell_type": "code",
   "execution_count": 180,
   "metadata": {
    "scrolled": true
   },
   "outputs": [
    {
     "name": "stdout",
     "output_type": "stream",
     "text": [
      "Train data contains 16549 sample\n",
      "Test  data contains 4138 sample\n"
     ]
    }
   ],
   "source": [
    "from sklearn.model_selection import train_test_split\n",
    "\n",
    "X_train, X_test, y_train, y_test = train_test_split(X, y, test_size=0.2, random_state=2)\n",
    "\n",
    "print(f'Train data contains {X_train.shape[0]} sample')\n",
    "print(f'Test  data contains {X_test.shape[0]} sample')"
   ]
  },
  {
   "cell_type": "code",
   "execution_count": 181,
   "metadata": {},
   "outputs": [
    {
     "name": "stdout",
     "output_type": "stream",
     "text": [
      "           p1tx      p1ty  p1t      p2tx      p2ty  p2t\n",
      "3303   0.948578  0.316544  100 -0.734000 -0.679150  100\n",
      "2233   0.337634  0.941278  100  0.379908  0.925024  100\n",
      "6845   0.965248  0.261336  100 -0.085759  0.996316  100\n",
      "14282  0.952684  0.303963  100  0.544592  0.838701  100\n",
      "17030  0.978194  0.207693  100  0.899103  0.437738  100\n",
      "...         ...       ...  ...       ...       ...  ...\n",
      "1099  -0.702701 -0.711486  100 -0.893773 -0.448520  100\n",
      "18898 -0.999977  0.006836  100  0.980575 -0.196145  100\n",
      "11798  0.997020  0.077146  100  0.994428  0.105421  100\n",
      "6637   0.555769  0.831337  100 -0.911374  0.411579  100\n",
      "2575   0.991163  0.132646  100 -0.750063 -0.661366  100\n",
      "\n",
      "[16549 rows x 6 columns]\n",
      "[[ 0.95  0.32  1.   -0.73 -0.68  1.  ]\n",
      " [ 0.34  0.94  1.    0.38  0.93  1.  ]\n",
      " [ 0.97  0.26  1.   -0.09  1.    1.  ]\n",
      " ...\n",
      " [ 1.    0.08  1.    0.99  0.11  1.  ]\n",
      " [ 0.56  0.83  1.   -0.91  0.41  1.  ]\n",
      " [ 0.99  0.13  1.   -0.75 -0.66  1.  ]]\n"
     ]
    }
   ],
   "source": [
    "from sklearn.preprocessing import StandardScaler, MinMaxScaler\n",
    "\n",
    "sc_inputs = StandardScaler()\n",
    "X_train_std = sc_inputs.fit_transform(X_train)\n",
    "X_test_std = sc_inputs.transform(X_test)\n",
    "\n",
    "# sc_outputs = StandardScaler()\n",
    "sc_outputs = MinMaxScaler(feature_range = (-1, 1))\n",
    "y_train_std = sc_outputs.fit_transform(y_train)\n",
    "y_test_std = sc_outputs.transform(y_test)\n",
    "\n",
    "print(y_train)\n",
    "print(y_train_std)\n",
    "\n",
    "X_train_std, X_val_std, y_train_std, y_val_std = train_test_split(X_train_std, y_train_std, test_size=0.1, random_state=1)"
   ]
  },
  {
   "cell_type": "code",
   "execution_count": 182,
   "metadata": {},
   "outputs": [
    {
     "name": "stdout",
     "output_type": "stream",
     "text": [
      "listing gpus...\n"
     ]
    }
   ],
   "source": [
    "import tensorflow as tf\n",
    "from tensorflow import keras\n",
    "from tensorflow.keras import layers\n",
    "\n",
    "print('listing gpus...')\n",
    "gpus = tf.config.experimental.list_physical_devices('GPU')\n",
    "if gpus:\n",
    "  try:\n",
    "    # Currently, memory growth needs to be the same across GPUs\n",
    "    for gpu in gpus:\n",
    "      tf.config.experimental.set_memory_growth(gpu, True)\n",
    "    logical_gpus = tf.config.experimental.list_logical_devices('GPU')\n",
    "    print(len(gpus), \"Physical GPUs,\", len(logical_gpus), \"Logical GPUs\")\n",
    "  except RuntimeError as e:\n",
    "    # Memory growth must be set before GPUs have been initialized\n",
    "    print(e)\n",
    "  except e:\n",
    "    print(e)"
   ]
  },
  {
   "cell_type": "code",
   "execution_count": 183,
   "metadata": {
    "scrolled": true
   },
   "outputs": [
    {
     "name": "stdout",
     "output_type": "stream",
     "text": [
      "Model: \"sequential_39\"\n",
      "_________________________________________________________________\n",
      "Layer (type)                 Output Shape              Param #   \n",
      "=================================================================\n",
      "dense_129 (Dense)            (None, 40)                1480      \n",
      "_________________________________________________________________\n",
      "dropout_51 (Dropout)         (None, 40)                0         \n",
      "_________________________________________________________________\n",
      "dense_130 (Dense)            (None, 20)                820       \n",
      "_________________________________________________________________\n",
      "dense_131 (Dense)            (None, 6)                 126       \n",
      "=================================================================\n",
      "Total params: 2,426\n",
      "Trainable params: 2,426\n",
      "Non-trainable params: 0\n",
      "_________________________________________________________________\n"
     ]
    }
   ],
   "source": [
    "from tensorflow.keras.regularizers import l2\n",
    "from tensorflow.keras.layers import Dropout\n",
    "import math\n",
    "\n",
    "model = keras.Sequential([\n",
    "    layers.InputLayer(input_shape=(X_train_std.shape[1], )),\n",
    "    layers.Dense(40, activation='relu', activity_regularizer=l2(0.01)),\n",
    "    layers.Dropout(0.2),\n",
    "#     layers.Dense(30, activation='relu', activity_regularizer=l2(0.01)),\n",
    "#     layers.Dropout(0.2),\n",
    "#     layers.Dense(20, activation='relu', activity_regularizer=l2(0.01)),\n",
    "#     layers.Dropout(0.2),\n",
    "    layers.Dense(20, activation='relu', activity_regularizer=l2(0.01)),\n",
    "    layers.Dense(6, activation='linear')\n",
    "])\n",
    "\n",
    "import tensorflow.keras.backend as K\n",
    "\n",
    "np.set_printoptions(precision=2)\n",
    "\n",
    "def customLoss():\n",
    "    def combined_loss(y_true,y_pred):\n",
    "        p1x_loss = K.square(y_pred[:, 0] - y_true[:, 0])\n",
    "        p1y_loss = K.square(y_pred[:, 1] - y_true[:, 1])\n",
    "#         p1t_loss = K.square(y_pred[:, 2] - y_true[:, 2])\n",
    "        p2x_loss = K.square(y_pred[:, 3] - y_true[:, 3])\n",
    "        p2y_loss = K.square(y_pred[:, 4] - y_true[:, 4])\n",
    "#         p2t_loss = K.square(y_pred[:, 5] - y_true[:, 5])\n",
    "\n",
    "        p1t_pred = y_pred[:, 2].numpy()\n",
    "        p1t_pred[p1t_pred < 0] = -1\n",
    "        p1t_pred[p1t_pred > 0] = 1\n",
    "        p1t_loss = K.square(p1t_pred - y_true[:, 2])\n",
    "\n",
    "        p2t_pred = y_pred[:, 5].numpy()\n",
    "        p2t_pred[p2t_pred < 0] = -1\n",
    "        p2t_pred[p2t_pred > 0] = 1\n",
    "        p2t_loss = K.square(p2t_pred - y_true[:, 5])\n",
    "\n",
    "        loss = p1x_loss + p1y_loss + p1t_loss + p2x_loss + p2y_loss + p2t_loss \n",
    "#         print(f'Custom loss: {loss[0]} ({p1x_loss[0]} {p1y_loss[0]} {p1t_loss[0]} / {p2x_loss[0]} {p2y_loss[0]} {p2t_loss[0]})')\n",
    "\n",
    "        return loss \n",
    "    return combined_loss\n",
    "\n",
    "model.summary()\n",
    "model.compile(loss='mse', optimizer='adam')\n",
    "# model.compile(loss=customLoss(), optimizer='adam')\n",
    "# model.run_eagerly = True\n",
    "\n",
    "# Eager execution is on by default\n",
    "# tf.executing_eagerly()"
   ]
  },
  {
   "cell_type": "code",
   "execution_count": 184,
   "metadata": {
    "scrolled": false
   },
   "outputs": [
    {
     "name": "stdout",
     "output_type": "stream",
     "text": [
      "Epoch 1/50\n",
      "438/466 [===========================>..] - ETA: 0s - loss: 0.5089\n",
      "Epoch 00001: val_loss improved from inf to 0.29275, saving model to csb_best_model.h5\n",
      "466/466 [==============================] - 1s 3ms/step - loss: 0.4974 - val_loss: 0.2927\n",
      "Epoch 2/50\n",
      "459/466 [============================>.] - ETA: 0s - loss: 0.2702\n",
      "Epoch 00002: val_loss improved from 0.29275 to 0.23570, saving model to csb_best_model.h5\n",
      "466/466 [==============================] - 1s 2ms/step - loss: 0.2698 - val_loss: 0.2357\n",
      "Epoch 3/50\n",
      "465/466 [============================>.] - ETA: 0s - loss: 0.2315\n",
      "Epoch 00003: val_loss improved from 0.23570 to 0.21087, saving model to csb_best_model.h5\n",
      "466/466 [==============================] - 1s 2ms/step - loss: 0.2316 - val_loss: 0.2109\n",
      "Epoch 4/50\n",
      "440/466 [===========================>..] - ETA: 0s - loss: 0.2146\n",
      "Epoch 00004: val_loss improved from 0.21087 to 0.19834, saving model to csb_best_model.h5\n",
      "466/466 [==============================] - 1s 2ms/step - loss: 0.2143 - val_loss: 0.1983\n",
      "Epoch 5/50\n",
      "444/466 [===========================>..] - ETA: 0s - loss: 0.2053\n",
      "Epoch 00005: val_loss improved from 0.19834 to 0.19193, saving model to csb_best_model.h5\n",
      "466/466 [==============================] - 1s 2ms/step - loss: 0.2053 - val_loss: 0.1919\n",
      "Epoch 6/50\n",
      "460/466 [============================>.] - ETA: 0s - loss: 0.1990\n",
      "Epoch 00006: val_loss improved from 0.19193 to 0.18644, saving model to csb_best_model.h5\n",
      "466/466 [==============================] - 1s 2ms/step - loss: 0.1987 - val_loss: 0.1864\n",
      "Epoch 7/50\n",
      "447/466 [===========================>..] - ETA: 0s - loss: 0.1945\n",
      "Epoch 00007: val_loss improved from 0.18644 to 0.18188, saving model to csb_best_model.h5\n",
      "466/466 [==============================] - 1s 3ms/step - loss: 0.1945 - val_loss: 0.1819\n",
      "Epoch 8/50\n",
      "460/466 [============================>.] - ETA: 0s - loss: 0.1909\n",
      "Epoch 00008: val_loss improved from 0.18188 to 0.17832, saving model to csb_best_model.h5\n",
      "466/466 [==============================] - 1s 2ms/step - loss: 0.1909 - val_loss: 0.1783\n",
      "Epoch 9/50\n",
      "463/466 [============================>.] - ETA: 0s - loss: 0.1882\n",
      "Epoch 00009: val_loss improved from 0.17832 to 0.17604, saving model to csb_best_model.h5\n",
      "466/466 [==============================] - 1s 2ms/step - loss: 0.1884 - val_loss: 0.1760\n",
      "Epoch 10/50\n",
      "444/466 [===========================>..] - ETA: 0s - loss: 0.1852\n",
      "Epoch 00010: val_loss improved from 0.17604 to 0.17458, saving model to csb_best_model.h5\n",
      "466/466 [==============================] - 1s 2ms/step - loss: 0.1856 - val_loss: 0.1746\n",
      "Epoch 11/50\n",
      "457/466 [============================>.] - ETA: 0s - loss: 0.1828\n",
      "Epoch 00011: val_loss improved from 0.17458 to 0.17227, saving model to csb_best_model.h5\n",
      "466/466 [==============================] - 1s 2ms/step - loss: 0.1828 - val_loss: 0.1723\n",
      "Epoch 12/50\n",
      "441/466 [===========================>..] - ETA: 0s - loss: 0.1814\n",
      "Epoch 00012: val_loss improved from 0.17227 to 0.17092, saving model to csb_best_model.h5\n",
      "466/466 [==============================] - 1s 2ms/step - loss: 0.1820 - val_loss: 0.1709\n",
      "Epoch 13/50\n",
      "450/466 [===========================>..] - ETA: 0s - loss: 0.1789\n",
      "Epoch 00013: val_loss improved from 0.17092 to 0.16863, saving model to csb_best_model.h5\n",
      "466/466 [==============================] - 1s 2ms/step - loss: 0.1793 - val_loss: 0.1686\n",
      "Epoch 14/50\n",
      "453/466 [============================>.] - ETA: 0s - loss: 0.1788\n",
      "Epoch 00014: val_loss improved from 0.16863 to 0.16817, saving model to csb_best_model.h5\n",
      "466/466 [==============================] - 1s 2ms/step - loss: 0.1789 - val_loss: 0.1682\n",
      "Epoch 15/50\n",
      "448/466 [===========================>..] - ETA: 0s - loss: 0.1769\n",
      "Epoch 00015: val_loss improved from 0.16817 to 0.16677, saving model to csb_best_model.h5\n",
      "466/466 [==============================] - 1s 2ms/step - loss: 0.1768 - val_loss: 0.1668\n",
      "Epoch 16/50\n",
      "441/466 [===========================>..] - ETA: 0s - loss: 0.1754\n",
      "Epoch 00016: val_loss improved from 0.16677 to 0.16585, saving model to csb_best_model.h5\n",
      "466/466 [==============================] - 1s 2ms/step - loss: 0.1759 - val_loss: 0.1659\n",
      "Epoch 17/50\n",
      "463/466 [============================>.] - ETA: 0s - loss: 0.1744\n",
      "Epoch 00017: val_loss improved from 0.16585 to 0.16490, saving model to csb_best_model.h5\n",
      "466/466 [==============================] - 1s 3ms/step - loss: 0.1744 - val_loss: 0.1649\n",
      "Epoch 18/50\n",
      "457/466 [============================>.] - ETA: 0s - loss: 0.1733\n",
      "Epoch 00018: val_loss improved from 0.16490 to 0.16369, saving model to csb_best_model.h5\n",
      "466/466 [==============================] - 1s 2ms/step - loss: 0.1733 - val_loss: 0.1637\n",
      "Epoch 19/50\n",
      "453/466 [============================>.] - ETA: 0s - loss: 0.1730\n",
      "Epoch 00019: val_loss improved from 0.16369 to 0.16279, saving model to csb_best_model.h5\n",
      "466/466 [==============================] - 1s 2ms/step - loss: 0.1731 - val_loss: 0.1628\n",
      "Epoch 20/50\n",
      "452/466 [============================>.] - ETA: 0s - loss: 0.1732\n",
      "Epoch 00020: val_loss improved from 0.16279 to 0.16224, saving model to csb_best_model.h5\n",
      "466/466 [==============================] - 1s 2ms/step - loss: 0.1734 - val_loss: 0.1622\n",
      "Epoch 21/50\n",
      "465/466 [============================>.] - ETA: 0s - loss: 0.1713\n",
      "Epoch 00021: val_loss improved from 0.16224 to 0.16203, saving model to csb_best_model.h5\n",
      "466/466 [==============================] - 1s 3ms/step - loss: 0.1714 - val_loss: 0.1620\n",
      "Epoch 22/50\n",
      "455/466 [============================>.] - ETA: 0s - loss: 0.1708\n",
      "Epoch 00022: val_loss improved from 0.16203 to 0.16163, saving model to csb_best_model.h5\n",
      "466/466 [==============================] - 1s 2ms/step - loss: 0.1711 - val_loss: 0.1616\n",
      "Epoch 23/50\n",
      "441/466 [===========================>..] - ETA: 0s - loss: 0.1710\n",
      "Epoch 00023: val_loss improved from 0.16163 to 0.16005, saving model to csb_best_model.h5\n",
      "466/466 [==============================] - 1s 2ms/step - loss: 0.1712 - val_loss: 0.1601\n",
      "Epoch 24/50\n",
      "455/466 [============================>.] - ETA: 0s - loss: 0.1705\n",
      "Epoch 00024: val_loss did not improve from 0.16005\n",
      "466/466 [==============================] - 1s 3ms/step - loss: 0.1706 - val_loss: 0.1602\n",
      "Epoch 25/50\n",
      "439/466 [===========================>..] - ETA: 0s - loss: 0.1690\n",
      "Epoch 00025: val_loss did not improve from 0.16005\n",
      "466/466 [==============================] - 1s 2ms/step - loss: 0.1696 - val_loss: 0.1601\n",
      "Epoch 26/50\n",
      "460/466 [============================>.] - ETA: 0s - loss: 0.1694\n",
      "Epoch 00026: val_loss did not improve from 0.16005\n",
      "466/466 [==============================] - 1s 2ms/step - loss: 0.1693 - val_loss: 0.1616\n",
      "Epoch 27/50\n",
      "463/466 [============================>.] - ETA: 0s - loss: 0.1692\n",
      "Epoch 00027: val_loss improved from 0.16005 to 0.15978, saving model to csb_best_model.h5\n",
      "466/466 [==============================] - 2s 4ms/step - loss: 0.1691 - val_loss: 0.1598\n",
      "Epoch 28/50\n",
      "445/466 [===========================>..] - ETA: 0s - loss: 0.1683\n",
      "Epoch 00028: val_loss did not improve from 0.15978\n",
      "466/466 [==============================] - 2s 3ms/step - loss: 0.1682 - val_loss: 0.1612\n",
      "Epoch 29/50\n",
      "450/466 [===========================>..] - ETA: 0s - loss: 0.1683\n",
      "Epoch 00029: val_loss improved from 0.15978 to 0.15709, saving model to csb_best_model.h5\n",
      "466/466 [==============================] - 2s 3ms/step - loss: 0.1681 - val_loss: 0.1571\n",
      "Epoch 30/50\n",
      "457/466 [============================>.] - ETA: 0s - loss: 0.1678\n",
      "Epoch 00030: val_loss did not improve from 0.15709\n",
      "466/466 [==============================] - 1s 3ms/step - loss: 0.1681 - val_loss: 0.1591\n",
      "Epoch 31/50\n",
      "465/466 [============================>.] - ETA: 0s - loss: 0.1671\n",
      "Epoch 00031: val_loss did not improve from 0.15709\n",
      "466/466 [==============================] - 2s 3ms/step - loss: 0.1671 - val_loss: 0.1588\n",
      "Epoch 32/50\n",
      "459/466 [============================>.] - ETA: 0s - loss: 0.1673\n",
      "Epoch 00032: val_loss did not improve from 0.15709\n",
      "466/466 [==============================] - 1s 2ms/step - loss: 0.1674 - val_loss: 0.1588\n",
      "Epoch 33/50\n",
      "446/466 [===========================>..] - ETA: 0s - loss: 0.1666\n",
      "Epoch 00033: val_loss did not improve from 0.15709\n",
      "466/466 [==============================] - 1s 2ms/step - loss: 0.1668 - val_loss: 0.1576\n",
      "Epoch 34/50\n"
     ]
    },
    {
     "name": "stdout",
     "output_type": "stream",
     "text": [
      "459/466 [============================>.] - ETA: 0s - loss: 0.1666\n",
      "Epoch 00034: val_loss did not improve from 0.15709\n",
      "466/466 [==============================] - 1s 2ms/step - loss: 0.1666 - val_loss: 0.1581\n",
      "Epoch 00034: early stopping\n"
     ]
    },
    {
     "data": {
      "text/plain": [
       "<Figure size 720x432 with 0 Axes>"
      ]
     },
     "execution_count": 184,
     "metadata": {},
     "output_type": "execute_result"
    },
    {
     "data": {
      "image/png": "[encoded data removed]",
      "text/plain": [
       "<Figure size 720x432 with 1 Axes>"
      ]
     },
     "metadata": {
      "needs_background": "light"
     },
     "output_type": "display_data"
    },
    {
     "data": {
      "text/plain": [
       "<Figure size 720x432 with 0 Axes>"
      ]
     },
     "metadata": {},
     "output_type": "display_data"
    }
   ],
   "source": [
    "from tensorflow.keras.callbacks import EarlyStopping, ModelCheckpoint\n",
    "\n",
    "es = EarlyStopping(monitor='val_loss', mode='min', verbose=1, patience=5)\n",
    "mc = ModelCheckpoint('csb_best_model.h5', monitor='val_loss', mode='min', save_best_only=True, verbose=1)\n",
    "\n",
    "history = model.fit(X_train_std, y_train_std, validation_data=(X_val_std, y_val_std), epochs=50, callbacks=[es, mc])\n",
    "\n",
    "import matplotlib.pyplot as plt\n",
    "plt.rcParams['figure.figsize'] = [10, 6]\n",
    "\n",
    "loss     = history.history[    'loss' ]\n",
    "val_loss = history.history['val_loss' ]\n",
    "\n",
    "epochs   = range(len(loss)) # Get number of epochs\n",
    "\n",
    "#------------------------------------------------\n",
    "# Plot training and validation loss per epoch\n",
    "#------------------------------------------------\n",
    "plt.plot(epochs, loss)\n",
    "plt.plot(epochs, val_loss)\n",
    "plt.legend(['Train loss', 'Validation loss'], fontsize=15)\n",
    "plt.title ('Training and Validation loss')\n",
    "plt.figure()\n",
    "\n",
    "# plt.plot  ( epochs[1:],     loss[1:] )\n",
    "# plt.plot  ( epochs[1:], val_loss[1:] )\n",
    "# plt.title ('Training and Validation loss')"
   ]
  },
  {
   "cell_type": "code",
   "execution_count": 189,
   "metadata": {},
   "outputs": [
    {
     "name": "stdout",
     "output_type": "stream",
     "text": [
      "R2 tf.Tensor(0.5771246, shape=(), dtype=float32)\n"
     ]
    },
    {
     "data": {
      "image/png": "[encoded data removed]",
      "text/plain": [
       "<Figure size 720x432 with 1 Axes>"
      ]
     },
     "metadata": {
      "needs_background": "light"
     },
     "output_type": "display_data"
    },
    {
     "data": {
      "text/plain": [
       "<Figure size 720x432 with 0 Axes>"
      ]
     },
     "metadata": {},
     "output_type": "display_data"
    }
   ],
   "source": [
    "from tensorflow.keras.models import load_model\n",
    "model = load_model('csb_best_model.h5')\n",
    "\n",
    "plt.plot(epochs, loss)\n",
    "plt.plot(epochs, val_loss)\n",
    "plt.legend(['Train loss', 'Validation loss'], fontsize=15)\n",
    "plt.title ('Training and Validation loss')\n",
    "plt.figure()\n",
    "\n",
    "from tensorflow.keras import backend as K\n",
    "\n",
    "def coeff_determination(y_true, y_pred):\n",
    "    y_pred = tf.convert_to_tensor(y_pred, np.float32)\n",
    "    y_true = tf.convert_to_tensor(y_true, np.float32)\n",
    "    SS_res =  K.sum(K.square( y_true-y_pred ))\n",
    "    SS_tot = K.sum(K.square( y_true - K.mean(y_true) ) )\n",
    "    return ( 1 - SS_res/(SS_tot + K.epsilon()) )\n",
    "\n",
    "R2 = coeff_determination(y_test_std, model.predict(X_test_std))\n",
    "print('R2', R2)"
   ]
  },
  {
   "cell_type": "code",
   "execution_count": 153,
   "metadata": {
    "scrolled": true
   },
   "outputs": [
    {
     "data": {
      "text/plain": [
       "<Figure size 360x216 with 0 Axes>"
      ]
     },
     "execution_count": 153,
     "metadata": {},
     "output_type": "execute_result"
    },
    {
     "data": {
      "image/png": "[encoded data removed]",
      "text/plain": [
       "<Figure size 360x216 with 1 Axes>"
      ]
     },
     "metadata": {
      "needs_background": "light"
     },
     "output_type": "display_data"
    },
    {
     "data": {
      "image/png": "[encoded data removed]",
      "text/plain": [
       "<Figure size 360x216 with 1 Axes>"
      ]
     },
     "metadata": {
      "needs_background": "light"
     },
     "output_type": "display_data"
    },
    {
     "data": {
      "image/png": "[encoded data removed]",
      "text/plain": [
       "<Figure size 360x216 with 1 Axes>"
      ]
     },
     "metadata": {
      "needs_background": "light"
     },
     "output_type": "display_data"
    },
    {
     "data": {
      "image/png": "[encoded data removed]",
      "text/plain": [
       "<Figure size 360x216 with 1 Axes>"
      ]
     },
     "metadata": {
      "needs_background": "light"
     },
     "output_type": "display_data"
    },
    {
     "data": {
      "text/plain": [
       "<Figure size 360x216 with 0 Axes>"
      ]
     },
     "metadata": {},
     "output_type": "display_data"
    }
   ],
   "source": [
    "from numpy import array, sort\n",
    "\n",
    "p_all = model.predict(np.array(X_test_std))\n",
    "\n",
    "predicted = []\n",
    "deltas = []\n",
    "outputs = []\n",
    "for idx, input in enumerate(X_test_std):\n",
    "    target = y_test_std[idx]\n",
    "    p = p_all[idx]\n",
    "        \n",
    "    delta = (p[0] - target[0])*180\n",
    "    deltas.append(delta)\n",
    "    \n",
    "    predicted.append(p[0] * 180)\n",
    "    outputs.append(target[0] * 180)\n",
    "    #print ('predicted angle delta', f'{delta}')\n",
    "    #print()\n",
    "    #print(int(p[0] * 180))\n",
    "    #print(int(p[1] * 200))\n",
    "    #print(int(p[3] * 1000))\n",
    "    #print(int(p[4] * 1000))\n",
    "    #print(int(p[5] * 200))\n",
    "    \n",
    "import matplotlib.pyplot as plt\n",
    "plt.rcParams['figure.figsize'] = [5, 3]\n",
    "\n",
    "epochs   = range(len(deltas)) # Get number of epochs\n",
    "\n",
    "deltas = sort(deltas)\n",
    "plt.plot(epochs, deltas)\n",
    "plt.title('Angle prediction delta')\n",
    "plt.figure()\n",
    "\n",
    "plt.hist(deltas, bins = 360)\n",
    "plt.title('angle prediction delta hist')\n",
    "plt.xlim(-180, 180)\n",
    "plt.figure()\n",
    "\n",
    "plt.hist(outputs, bins = 360)\n",
    "plt.title('angles expected')\n",
    "plt.xlim(-360, 360)\n",
    "plt.figure()\n",
    "\n",
    "plt.hist(predicted, bins = 360)\n",
    "plt.title('angles prediction')\n",
    "plt.xlim(-360, 360)\n",
    "plt.figure()\n"
   ]
  },
  {
   "cell_type": "code",
   "execution_count": 190,
   "metadata": {},
   "outputs": [
    {
     "name": "stdout",
     "output_type": "stream",
     "text": [
      "           p1tx      p1ty  p1t      p2tx      p2ty  p2t\n",
      "10563  0.870610  0.491975  100 -0.856305 -0.516471  100\n",
      "2968  -0.546403  0.837522  100 -0.435981  0.899956  100\n",
      "4985  -0.611282  0.791413  100 -0.456292  0.889830  100\n",
      "5694   0.992731  0.120353  100  0.986380  0.164482  100\n",
      "2394  -0.660889  0.750484  100 -0.402040  0.915622  100\n",
      "...         ...       ...  ...       ...       ...  ...\n",
      "1657   0.695537  0.718490  100  0.732549  0.680714  100\n",
      "5377  -0.977610  0.210427  100 -0.987613 -0.156908  100\n",
      "6156   0.886283  0.463144  100  0.891593 -0.452838  100\n",
      "3328   0.664333  0.747437  100  0.680320  0.732915  100\n",
      "2303   0.970990  0.239122  100  0.969172  0.246387  100\n",
      "\n",
      "[4138 rows x 6 columns]\n",
      "[[ 6.75e-01  6.27e-01  1.00e+02  6.43e-01  3.86e-01  9.99e+01]\n",
      " [ 3.64e-01  7.28e-01  1.00e+02  6.43e-01  5.07e-01  9.99e+01]\n",
      " [ 3.24e-01  2.73e-02  9.99e+01  2.28e-01  5.73e-01  9.99e+01]\n",
      " ...\n",
      " [ 2.25e-01  1.96e-01  1.00e+02  6.86e-01 -6.34e-02  1.00e+02]\n",
      " [ 2.10e-01  6.50e-01  1.00e+02  8.64e-01  1.63e-01  1.00e+02]\n",
      " [ 5.04e-01  2.46e-01  1.00e+02  7.22e-01  2.57e-01  1.00e+02]]\n",
      "           p1tx      p1ty       p1t      p2tx      p2ty       p2t\n",
      "10563  0.195642 -0.135286 -0.028397 -1.498955 -0.902226  0.124336\n",
      "2968  -0.910178  0.109290 -0.058960 -1.079209  0.392536  0.059662\n",
      "4985  -0.935281  0.764074  0.056328 -0.684227  0.317230  0.102768\n",
      "5694  -0.006982 -0.151690 -0.090500 -0.073963 -0.092454  0.147087\n",
      "2394  -0.795310  0.431484  0.105324 -0.312574  0.725222  0.078033\n",
      "...         ...       ...       ...       ...       ...       ...\n",
      "1657   0.079415  0.198078 -0.039032  0.340636 -0.062009 -0.027573\n",
      "5377  -0.386863  0.140269  0.088036 -1.256051 -0.616842 -0.158752\n",
      "6156   0.661548  0.267281 -0.146957  0.205623 -0.389438  0.026855\n",
      "3328   0.453874  0.097039 -0.131561 -0.183257  0.569630  0.021004\n",
      "2303   0.467153 -0.006525 -0.144241  0.247585 -0.010797  0.025192\n",
      "\n",
      "[4138 rows x 6 columns]\n"
     ]
    }
   ],
   "source": [
    "y_test_pred_std = model.predict(X_test_std)\n",
    "\n",
    "y_test_pred = sc_outputs.inverse_transform(y_test_pred_std)\n",
    "\n",
    "delta = y_test - y_test_pred\n",
    "print(y_test)\n",
    "print(y_test_pred)\n",
    "print(delta)"
   ]
  },
  {
   "cell_type": "code",
   "execution_count": 78,
   "metadata": {},
   "outputs": [
    {
     "name": "stdout",
     "output_type": "stream",
     "text": [
      "[-59890.98     66033.42       142.58134 -49680.047   -63080.\n",
      "    115.31177]\n",
      "p1tx   -49844\n",
      "p1ty    84861\n",
      "p1t       200\n",
      "p2tx   -68361\n",
      "p2ty   -64256\n",
      "p2t         0\n",
      "Name: 12970, dtype: int64\n"
     ]
    }
   ],
   "source": [
    "print(y_test_pred[0])\n",
    "print(y_test.iloc[0,:])"
   ]
  },
  {
   "cell_type": "code",
   "execution_count": 62,
   "metadata": {},
   "outputs": [
    {
     "data": {
      "text/markdown": [
       "**input**"
      ],
      "text/plain": [
       "<IPython.core.display.Markdown object>"
      ]
     },
     "metadata": {},
     "output_type": "display_data"
    },
    {
     "ename": "NameError",
     "evalue": "name 'frames' is not defined",
     "output_type": "error",
     "traceback": [
      "\u001b[1;31m---------------------------------------------------------------------------\u001b[0m",
      "\u001b[1;31mNameError\u001b[0m                                 Traceback (most recent call last)",
      "\u001b[1;32m<ipython-input-62-886bd8c13c1a>\u001b[0m in \u001b[0;36m<module>\u001b[1;34m\u001b[0m\n\u001b[0;32m      3\u001b[0m \u001b[0mprintmd\u001b[0m\u001b[1;33m(\u001b[0m\u001b[1;34m'**input**'\u001b[0m\u001b[1;33m)\u001b[0m\u001b[1;33m\u001b[0m\u001b[1;33m\u001b[0m\u001b[0m\n\u001b[0;32m      4\u001b[0m \u001b[1;33m\u001b[0m\u001b[0m\n\u001b[1;32m----> 5\u001b[1;33m \u001b[0mp\u001b[0m \u001b[1;33m=\u001b[0m \u001b[0mframes\u001b[0m\u001b[1;33m[\u001b[0m\u001b[0mi\u001b[0m\u001b[1;33m]\u001b[0m\u001b[1;33m.\u001b[0m\u001b[0mpods\u001b[0m\u001b[1;33m[\u001b[0m\u001b[1;36m0\u001b[0m\u001b[1;33m]\u001b[0m\u001b[1;33m.\u001b[0m\u001b[0mposition\u001b[0m\u001b[1;33m\u001b[0m\u001b[1;33m\u001b[0m\u001b[0m\n\u001b[0m\u001b[0;32m      6\u001b[0m \u001b[0mprint\u001b[0m\u001b[1;33m(\u001b[0m\u001b[1;34m'pos:'\u001b[0m\u001b[1;33m,\u001b[0m \u001b[0mint\u001b[0m\u001b[1;33m(\u001b[0m\u001b[0mp\u001b[0m\u001b[1;33m.\u001b[0m\u001b[0mx\u001b[0m \u001b[1;33m*\u001b[0m \u001b[1;36m16000\u001b[0m\u001b[1;33m)\u001b[0m\u001b[1;33m,\u001b[0m \u001b[0mint\u001b[0m\u001b[1;33m(\u001b[0m\u001b[0mp\u001b[0m\u001b[1;33m.\u001b[0m\u001b[0my\u001b[0m \u001b[1;33m*\u001b[0m \u001b[1;36m9000\u001b[0m\u001b[1;33m)\u001b[0m\u001b[1;33m)\u001b[0m\u001b[1;33m\u001b[0m\u001b[1;33m\u001b[0m\u001b[0m\n\u001b[0;32m      7\u001b[0m \u001b[1;33m\u001b[0m\u001b[0m\n",
      "\u001b[1;31mNameError\u001b[0m: name 'frames' is not defined"
     ]
    }
   ],
   "source": [
    "i = 1\n",
    "\n",
    "printmd('**input**')\n",
    "\n",
    "p = frames[i].pods[0].position\n",
    "print('pos:', int(p.x * 16000), int(p.y * 9000))\n",
    "\n",
    "s = frames[i].pods[0].speed\n",
    "print('speed:', int(s.x * (650 + 200)), int(s.y * (650 + 200)))\n",
    "\n",
    "a = frames[i].pods[0].angle\n",
    "print('angle:', int(a * 180))\n",
    "\n",
    "w = frames[i].pods[0].waypoint\n",
    "print('waypoint:', int(w.x * 16000), int(w.y * 9000))\n",
    "\n",
    "printmd('**output**')\n",
    "\n",
    "t = frames[i].actions[0].aim\n",
    "print('aim:', int(t.x * 1000), int(t.y * 1000))\n",
    "#print('aim abs:', int(p.x * 16000) + int(t.x * 1000), int(p.y * 9000) + int(t.y * 1000))\n",
    "pw = frames[i].actions[0].power\n",
    "print(int(pw * 200))\n",
    "\n",
    "t = frames[i].actions[1].aim\n",
    "print('aim:', int(t.x * 1000), int(t.y * 1000))\n",
    "#print('aim abs:', int(p.x * 16000) + int(t.x * 1000), int(p.y * 9000) + int(t.y * 1000))\n",
    "pw = frames[i].actions[1].power\n",
    "print(int(pw * 200))\n",
    "\n",
    "printmd('**prediction**')\n",
    "\n",
    "p = model.predict(np.array(inputs)[i:i + 1])\n",
    "bot = p[0]\n",
    "print(bot)\n",
    "print(int(bot[0] * 1000))\n",
    "print(int(bot[1] * 1000))\n",
    "print(int(bot[2] * 200))\n",
    "print(int(bot[3] * 1000))\n",
    "print(int(bot[4] * 1000))\n",
    "print(int(bot[5] * 200))"
   ]
  },
  {
   "cell_type": "code",
   "execution_count": 48,
   "metadata": {},
   "outputs": [
    {
     "name": "stdout",
     "output_type": "stream",
     "text": [
      "Model: \"sequential_3\"\n",
      "_________________________________________________________________\n",
      "Layer (type)                 Output Shape              Param #   \n",
      "=================================================================\n",
      "dense_6 (Dense)              (None, 30)                750       \n",
      "_________________________________________________________________\n",
      "dense_7 (Dense)              (None, 20)                620       \n",
      "_________________________________________________________________\n",
      "dense_8 (Dense)              (None, 20)                420       \n",
      "_________________________________________________________________\n",
      "dense_9 (Dense)              (None, 10)                210       \n",
      "_________________________________________________________________\n",
      "dense_10 (Dense)             (None, 4)                 44        \n",
      "=================================================================\n",
      "Total params: 2,044\n",
      "Trainable params: 2,044\n",
      "Non-trainable params: 0\n",
      "_________________________________________________________________\n"
     ]
    }
   ],
   "source": [
    "model.summary()"
   ]
  },
  {
   "cell_type": "code",
   "execution_count": 27,
   "metadata": {
    "scrolled": true
   },
   "outputs": [
    {
     "name": "stdout",
     "output_type": "stream",
     "text": [
      "b'(lp0\\n(lp1\\ncnumpy.core.multiarray\\n_reconstruct\\np2\\n(cnumpy\\nndarray\\np3\\n(I0\\ntp4\\nc_codecs\\nencode\\np5\\n(Vb\\np6\\nVlatin1\\np7\\ntp8\\nRp9\\ntp10\\nRp11\\n(I1\\n(I28\\nI30\\ntp12\\ncnumpy\\ndtype\\np13\\n(Vf4\\np14\\nI0\\nI1\\ntp15\\nRp16\\n(I3\\nV<\\np17\\nNNNI-1\\nI-1\\nI0\\ntp18\\nbI00\\ng5\\n(V\\\\u000a\"@>\\x18&\\xd2=M\\\\u0000\\xb7=M\\x1b=\\xbd\\x94\\x92 \\xbe\\xf0\\x91\\xe3\\xbd#\\x87\\'>\\x8b7\\x91>\\xfc\\x0fP\\xbcWX\\x98=Z\\x0b6\\xbf\\xb0P\\x89<\\x11B\\xa4;K\\xb1#=#B\\x1c\\xbe\\x9e$\\x19\\xbf\\x10\\xf7\\xa5=\\xf2\\x12\\x1d<q\"i=\\xdf\"\\x84>\\x8e4?\\xbd3\\xea\\xb8<E\\xdfh\\xbb\\x1d\\x83\\xf7=\\x8d\\x1dH\\xbe\\xa4\\x04l>\\xe3\\x99><\\xa9F\\t;Dgq\\xbe\\xb28\\\\u001a\\xbe\\x91I\\x8f\\xbdS\\xc1\\x80>+9\\x9b=\\xa4>X\\xbe\\\\u000a\\xeec\\xbc\\x95\\xbf\\xb2\\xbd\\xca\\xfb6>\\xdd|\\x11\\xbe\\x89h\\xf0\\xbd\\xbe\\x14\\xb0\\xbd\\x8f\\xd6\\x81\\xbejh;\\xbc\\xa9N\\x04\\xbe\\x8c>/\\xbe\\xb0\\xfdb\\xbeva\\xd0\\xbe$\\x80\\xfe\\xbdi\\xac\\x83\\xbcd[\\x07=n\\x05\\x03=\\x97\\x89\\x1d=\\xf0+\\xc8\\xbd\\x9d\\x84:>\\x03(Y>\\xcf\\xdd\\x97\\xbe\\xdb\\x1f\\x81>\\x84\\x9a\\x0b>J\\x18\\x04\\xbdx\\x1e\\'>u\\xc1x\\xbd\\xf3\\x9f\\xf3=-[\\x86=\\xecG\\xe1=\\x95\\x0e\\x06>\\xa5\\xb1\\x96=\\xf8\\xb3\\x8b;\\x92\\x14-\\xbeh\\x88*\\xbe><]>\\xc9\\x90\\xd4\\xbd\\x19\\xb3\\xef>f\\xfd\\x1d\\xbd\\\\u0000\\xb0\\xd0\\xbdg\\xe2\\x92\\xbcD\\x92\\x01=mg\\x8d>\\xa5\\x10\\xbe>FY\\xfa<h\\xb1\\xdd\\xbd\\x81\\x8f6\\xbdC=\"\\xbe\\xbf#\\x90>\\\\u000a\\xb3\\xa1=Sg\\x11\\xbe??\\xda>3\\xcb\\xc5\\xbd\\x1e~@>\\xab\\xd1C=!\\x15\\x15\\xbe\\x9f\\x1dJ\\xbc\\xd1\\xc8\\x91>E\\xf4\\xbd>`!\\x87=\\x02\\xa0\\xc4<\\xd9k\\xce\\xbd\\xa0\\x83\\xae=`s\\xc3=/\\xd6 \\xbc\\xb3\\xd5\\xa7=\\x1b0\\x07=Y\\xbe\\t=`\\xfbF\\xbc\\xaf\\xc3\\x04\\xbe\\x94\\xe4\\xc3\\xbb\\xc9\\xd7A\\xbe<\\x1c\\x17>7\\xedI=\\xa4?/=\\x85\\xac\\x8b\\xbd\\xa96\\xbd\\xba\\xb2\\xaa\\xff<\\xd3\\xd0\\x19\\xbc\\xef\\xcb\\xca\\xba@\\xe1\\xe1=7\\xbf\\xb4\\xbd\\'\\x9b\\xc4=\\xdf\\x1fL>\\xc8\\x81\\xdd=2\\xa8\\x99\\xbd\\xda\\x87;\\xbd\\x1b\\xde\\x9e\\xbarP1>\\xc6\\x12u\\xbf*>\\x8f=CB\\x86>\\xf4\\xb5\\xe9\\xbe\\xb7-6\\xbe\\xa6<\\x8a\\xbe\\xb1\\xda\\x0c\\xbdwA\\x0f?\\xbe<\\x9f\\xbdP\\xc8k;IF\\x0c>\\xf1\\x8c\\x0b\\xbd\\xeaX\\xa7>\\x0b>\\xfe=\\x16W\\x1c\\xbf\\xea\\xf3\\\\u001a\\xbc\\xdez\\xdb\\xbe\\xa8\\xf6\\xab<\\x92V\\x12?cu\\x05?\\xdeB\\xd6>T\\x8d\\xc5>\\xfeL\\x86\\xbd\\xd3\\x93\\x92=\\x92\\xcf\\x11>sUd\\xc0o\\x9d,\\xbf]QZ@=\\xbd\\xb3<\\xb8\\xf4\\xc9\\xbe1\\xdc\\xa6\\xbe\\xac\\xdb~\\xbdQ\\'\\\\u000d\\xbd\\x91A=>\\x9d\\x816\\xbe\\xe8\\xf2\\xc3\\xbd\\x8dp\\x12\\xbe\\xd2\\x95|\\xbcc\\\\u0000\\x80=GtL=x\\x0b\\x8c>Nk;\\xbe\\x07\\x08\\x86\\xbe\\xc6\\xb33\\xbe\\x92\\xd4p\\xben\\x91\\x07\\xbd\\x05!{\\xbe\\x8f@\\x0e\\xbd^\\xd3J>.s\\x05\\xbe=\\xe0\\x99\\xbe\\x1d\\xe9\\xc9\\xbd\\xb9z\\xc9\\xbdz\\x90\\xa6=\\x19g\\x7f\\xbdX*\\xdf<l\\xe3\\x89>\\x8a\\x7f~<\\xf8\\xec\\x90\\xbc\\xea/\\xff\\xbd\\x0f}\\x98\\xbdEX\\xf4\\xbd>\\xfe\\x87>\\xf5v\\\\u005c>\\xb5\\x83Z>j\\xee\\xe1=\\x96g1\\xbe\\xc2/\\x8b\\xbd\\\\u005c\\x91\\x93\\xbeI]d<\\x85c\\xa0>I\\xed\\x9b\\xbd\\xa94\\xf0\\xbd\"\\x02\\xf4\\xbd*\\x98Q\\xbe\\x9b\\x8e\\x1d\\xbd\\x04\\xf0\\x9b\\xbeRq\\x07\\xbeaT\\xe7\\xbdF\\xa5\">\\x11\\\\u000d\\x15=\\x9b\\xca\\x0c\\xbd{\\xe8%\\xbc\\xad\\xbca\\xbeQ\\xea\\x1f\\xbe\\'\\xb1\\x17<\\xd2\\x8b\\xe7<~\\'\\xd2\\xbc%\\xce7\\xbe \\xd1\\xcc\\xbb\\x8d\\x90H>y\\xdar\\xbe,=o=\\xc8\\x02w<\\xaa\\xaa\\x83\\xbd\\xca\\xe5r\\xbe\\xfd\\x1f\\x9a<\\\\u000a\\xa1\\x13\\xbe\\x17\\xb2^\\xbeq\\xf3`\\xbdXy\\x02\\xbe\\xbc]\\x8e=\\\\u001a\\'\\xd6;\\xf78\\x9c\\xbe\\x05\\xe7\\xa5\\xbe:\\xdc\\x96=\\xad\\xdc\\xd8=\\xfeu-=\\xe8\\xd8\\x9b\\xbc\\xbe\\x81`\\xbd`\\x82E\\xbe\\xfc\\xf7%>3T\\x0c\\xbf\\xe9\\x1d\\xe9=a\\xd9E\\xbe]\\'\\x11=(\\xae\\'=\\xe6Mk\\xbd\\xcd\\x12\\x8b\\xbeMe*>\\x8f\\xd4\\x84=\\xc97\\x84\\xbc\\xff6/>\\xa3(\\x1e\\xbe\\x8aN/>\\xeb\\xdfC=i\\xca0\\xbd\\xf5W\\\\u000a\\xbe\\x95\\xdc\\x0e\\xbea\\x83e\\xbdd\\xea(\\xbc\\xb3\\x9c\\x0f\\xbe(\\xd9\\\\u0000\\xbe\\t)~\\xbd\\x9f\\\\u000d\\\\u000a\\xbe\\x0cl\\\\u000d=9D\\x82\\xbc\\x0f\\x04D\\xbe\\xa6}\\\\u001a\\xbe\\x1c\\\\u0000\\x13>\\xb6z\\xfc;\\xeb\\xa0\">#,6\\xbe\\x8c\\xe8\\x08\\xbd\\xc3\\xfc\\xf0\\xbd\\x1c\\xf8\\xb1\\xbd\\xfe\\x9b\\x83\\xbe9kH=\\x1eU=\\xbd5\\xfc0>H\\x8b\\xb5=]Th>a\\xfb\\\\u000d\\xbe\\xb3\\x9f\\x89=\\x13\\xb6r=\\x0b\\x01\\xc9=\\x88\\x02E\\xbdK\\xf8&>\\xf3\\xe2N>\\xc2}\\xb5\\xbcTIR\\xbd\\xdf\\xe7\\x14>\\xab\\xc4\\xbb=t\\xe3\\xa2\\xbdQN\\xc4\\xbd#T|<\\xbbI\\xa1\\xbd\\\\u000d\\x91\\xc5>\\xa6:\\x13\\xbd\\x10\\x9f\\xab\\xba&&\\xf1=`E\\x05\\xbe|\\x83t\\xbe\\xf15R\\xbd*@W\\xbd,\\xd1\\xde<W\\xda\\xcf=\\x85\\xf0\\x9e;\\xe0\\xb2\\x1c>LS\\xb7=\\xef\\xe2o;\\xbcM\\x1d\\xbd^\\x9c8\\xbc\\xc9\\xb3L\\xbd\\x1f\\x18\\xda\\xbb\\xa1\\xb1\\x10>\\xcdW\\xa2\\xbd^E\\xe2<\\xb1U\\x12=\\xb5\\xfea\\xbddR\\xbe>\\xecL9\\xbc\\xe1p\\xfa=$\\xa8:>s\\xe5k=\\xd8\\xf6\\xbf=\\xb8\\xb7\\x18\\xbd\\xc7&a\\xbe\\x97\\xd8\\x8a=Em\\xb6\\xbd\\xc0i\\x80=\\xd7\\x81B>_\\x087\\xbeI`o\\xbeH\\xd2/>;\\xf0\\xd1<\\x1e\\xf7d\\xbd\\x90-\\\\u000a\\xbd\\xb9\\xa9\\xa6>0\\xd7{>\\xf6\\xb5\\x90\\xbc\\x93I\\x87\\xbd\\x0c6\\x10=\\xa1\\x99\\x11\\xbf\\\\u001a\\xc4u\\xbd*<\\x0f\\xbf\\x02\\x95\\x8d\\xbe\\xf8\\x07\\x02>\\x01\\xbb9>\\x94\\xbfQ@\\xd8\\x93{>\\xb9\\xd2\\xf4?\\\\u000a\\\\u000d\\x07>\\xfe\\xdd\\x81\\xbe\\xce\\xcc\\x84=x^t\\xc0\\xb8\\xce=\\xbebJ\\xd7\\xbe1\\xac\\xab\\xbeRT\\x85\\xbea\\x93V\\xbd\\xd10\\xde\\xbe\\xd2Y\\x9c\\xbc\\xa3\\x03%?\\xe8\\x1b\\xac\\xbe$`D\\xbc\\xcd\\x9d\\xab=\\xec\\x87v\\xbch3\\xd3=`\\xb8r=)\\xb8\\x80\\xbd_o\\xbf\\xbdwrq\\xbeD\\x07\\xaf\\xbd\\xe6\\xac\\x12>\\xbd\\xf9\\x15>\\xe6\\xc1\\xbe<d\\x05\\xc7=\\\\u005cU\\xbc\\xbdj\\xb8\\x98<G\\x13\\x9a\\xbd\\x1c\\x88\\xab\\xbbv\\x86\\xdf=*\\x97\\x82\\xbe$Kc=\\x0c\\xe7E\\xbc\\xf7|\\xe4=\\xd1\\xd1\\x93\\xbd\\x8a\\xc9\\xa2=f\\x1f\\xe2=\\xca\\xbe\\x98=\\x89y\\t=\\xf4\\xfd5<\\xfcE\\xfb\\xbdQ\\xd5O\\xbe\\x1c\\x8d\\x9a\\xbc\\x98\\xdf\\'>zH\"<\\x98\\xe5\\xae\\xbc\\x1cUb=\\x08y ;|\\xd9\\xb6=\\\\u005cp\\xf3=\\xb8\\x92d=1X\\xc4\\xbd\\x11V\\xac\\xbd6<>>q\\xef\\xfd=D\\xadp\\xbeo?\\xbc<\\x0c\\x8fn\\xbe\\x05\\xc5\\x10\\xbb\\xe9\\x08\\x8c\\xbd\\x8f\\xf9\\xe7\\xbeo\\x81\\xb8\\xbd}\\xd6l\\xbaN\\x8a2=6\\xcc\\x8a\\xbe\\xf3Pn=\\\\u0000\\xe2Z\\xbeY\\x81\\xf8<*\\xf7\\xcd\\xbd2\\\\u005c\\x0b\\xbfxA\\xb4=\\xa6\\x83%\\xbd\\x96@Z\\xbd\\xef6\\xcf=\\xfav\\x86<\\x8e\\xe8\\x0c>.\\x0b\\xac>\\x1b,\\xaa=\\x81\\xa7\\x9c\\xbe\\\\u000d\\xc7\\xca\\xbd\\xd4*\\\\u005c<E\\xa7n>M;?\\xbdW\\x1f\\xf5\\xbdwYd\\xbe\\x95Dn\\xbe\\xa15P=\\x80\\xbau\\xbe\\xe1Ts=\\x85\\xd8\"\\xbe\\x92\\xc6J\\xbew\\xd1\\xe3\\xbd\\xe4\\x17\\x81\\xbd\\xf8\\xa7w=\\x8c\\x15\\xb5=Q\\xdea\\xbd\\xa9i}>\\x0e!,<S\\xe6\\xf1=\\x9aL\\xfb\\xbe}\\x91`=\\xf9\\x83\\x84\\xbe/\\xd2Z<@D\\xbb\\xbc\\x15\\xdc\\xab\\xbb\\xa1\\xd0\\\\u005c>\\xf3S\\xfc<\\xba\\x0b\\xe5;2\\x8c\\xaf<\\xb4S\\xf5\\xbbROX=\\xa8v5\\xbd,zF< \\xbb\\xfb<;\\xaf\\x9b\\xbdV\\x1d\\x80\\xbc\\xec\\xba\\xe5<\\xdd2\"\\xbem\\x98J>\\x0e\\\\u005c\\xc1\\xbd\\x1f\\xdb\\xd9\\xbet\\xee\\x99\\xbdG[c<\\xf3{\\x14>\\x95\\xcc\\xd4\\xbd\\xf1\\xb9\\xfd=\\xb0<\\t\\xbe\\xde9\\t\\xbe\\x1d%\\xb8=\\xb7],\\xbf\\x12\\x02\\x12=\\x13\\xd9\\x07\\xbe\\xf80==\\xf0\\xf2\\xa4\\xba\\xf0O@\\xbd\\xd9\\x81d\\xbd\\xc9\\x05?=\\x85\\xc1n=@{\\xe0=\\xeb\\xdf\\x10>\\x0by\\xa0\\xbcZ\\xb2Z<eX\\xe7=3\\xb8i<j\\x99\\x07=\\xf3\\xca\\x06>\\xa9\\x9a?\\xbd\\x0e48= X\\xd4<e\\xa6K=D\\xe8\\xbc\\xbb$r\\xfe<\\xf1\\xcb@=\\xe5%s\\xbd\\xee\\xc0\\xd4\\xbd\\x03\\x9a\\xc6\\xbd\\xd1\\x8d5>\\xaf\\xc5$>O1\\xbb\\xbd\\x8e\\xb8(\\xbb\\xc1\\xbb^\\xbeq\\x81\\xaa\\xbd\\x0b\\x9b\\xb1<\\x06\\xd1\\xed\\xbd\\xd7/\\x80\\xbcF\\x948>\\x89Ju=\\x8e\\xf5\\xde<\\x92MK\\xbeI=J>u\\x19\\'=6$J>\\x81j\\xeb\\xbc\\x91G-\\xbe\\xf2a,\\xbd\\xeff9\\xbeR\\x9d\\xcf<)\\xedv\\xbd\\xd0\\xc10=\\xb2\\xe8r\\xbe\\xf1-\\x1d>\\xbc\\xe8j\\xbd\\xb1f\\\\u001a=T\\x89\\xc3\\xbd\\xd2\\xbe\\xa7=\\xe0Q\\t>_\\xf6\\x9e\\xbd\\x84\\x8f2=\\x85k\\x8c=\\xab\\xae;\\xbfz\\xf47\\xbc\\xe9\\x082\\xbe\\xcc:\\xe9;\\x19\\x7f\\xc8=U%\\x8d\\xbc945>\\xcc\\xcc\\t>!3\\x92\\xbc\\xad\\x1eH\\xbd\\xb9\\x1b\\x7f\\xbc<~\\x9a=\\x80\\xd4\\xec<\\x88\\xc6\\x9f=xW\\xae\\xbc\\xb2\\xbf\\x8b\\xbc\\x1b\\xc4\\xe0;\\x12\\x9d\\x87<=\\x93\\xbc\\xbd/tI=h\\xd5\\xcd=\\xba\\x94\\xcf\\xbd?\\xa8\\x0f\\xbcH/\\x01\\xbds\\xbfn\\xbc\\x15\\x93r<57\\x1d\\xbd\\x8a~\\x07=F^<>\\x93\\xa6q\\xbd\\xeb\\xe0\\xcf\\xbcm\\xbf\\xf1;\\t\\x0f\\xcc\\xbd\\xc4\\xfap\\xbci*\\xfb\\xbc\\xdd\\xfaK<w\\xb8\\xd1=\\xb0O\\xb9\\xbd\\xd1U\\x1d\\xbe\\x07\\xff}\\xbe\\xa1\\xc8\\xb7<\\xf1BZ\\xbdBg\\x85=\\xd2\\xb4\\x14>\\xa5\\xaa\\xb1=\\xa2\\x0c\\\\u0000>\\x19\\xa2\\xbb\\xbe\\xfe\\x1dQ=\\xd5^\\\\u000d\\xbef\\xb8\\x0f\\xbd\\xa8\\xd31\\xbd\\xca\\xb0\\xd0\\xbd\\x8b\\xfe\\xab<\\xc1\\\\u0000\\x15\\xbdi\\xbdQ\\xbd\\x0b\\xcf\\xa7\\xbe\\xd6v\\xd0\\xbcK\\xaf\\xe7=\\xdf\\xdc;>2\\xb1/\\xbeE[\\x01\\xbf\\xc7\\xfe\\xff\\xbd\\x89p \\xbe\\x8f\\xf4Q\\xbd\\\\u000aLV>\\xbe\\x184;q\\x89\\xe1\\xbd^\\x8d\\x03\\xbe\\xbe\\x987\\xbe\\xcd\\xb7\\xf1\\xbd\\xf7q\\xd8\\xbc\\x0e\\xe9\\x91=B\\x92M<d\\xbcP\\xbc\\x80\\xe7\\xf1\\xbd\\xe8\\xcb\\xab\\xbd\\xe1\\xb1\\x96\\xbe\\xae\\\\u000dd=%\\x8c\\x9e>kT\\xb2<\\xce;\\xca=\\\\u005c\\xbdX\\xbd;\\x14\\xfa=\\xa8S1\\xbd\\x9c\\xa3\\x84\\xbdlO\\x97=\\xf3\\xd9E>662\\xbe\\xef\\xcf\\x97\\xbc\\xab\\x94\\x86=6)\\\\u0000>\\x05\\xc4\\xa5\\xbds\\x81\\x97\\xbc\\x91\\x9d\\x82<\\xb2j$=7\\x93$\\xbd\\xecN\\xd5\\xbd\\tHP\\xbd[\\x83\\x83\\xbd\\xba\\\\u000d\\x05\\xbf\\t\\xb1\\xa3>\\x0c\\xf2\\x81\\xbd\\x9c\\xff\\x9b=fR\\x99=h\\x11*\\xbe\\xcf9 >\\x01ip\\xbe\\x80!\\x18<\\\\u001a\\x85\\xe1<\\xb7\\xbe\\xf5\\xbcKZ\\x18>\\x11\\xbbi\\xbd!\\x13`=\\xf7\\xe7\\\\u000a\\xbc1?\\xc5\\xbd\\xb1\\xc2\\x15\\xbd\\x7f\\xef\\xe5\\xbde0E\\xben\\x02J>\"J\\xeb\\xbd\\xd7\\x8a\"\\xbfd\\\\u000d\\x7f=\\xfaj\\xd7\\xbd\\xc9\\xce \\xbc=J\\xcc\\xbd\\xc4\\x15(<\\xbeO\\xa6\\xbe=G\\xa7\\xbdc\\xc8\\x0f\\xbe\\x9c\\xa5\\x11\\xbebF\\xf9\\xbd\\x11>+>5\\xcbH<\\xa0\\x96!\\xbbO\\\\u0000\\xa2>\\xe3{]\\xbeDM\\xf1\\xbd\\xb4\\x14<=]\\xb1m\\xbe\\xdbpQ>y5\\x07<Rh\\x8a\\xbe\\x1cr]\\xbe\\xd0O\\xec:\\xdb\\x8a\\x89\\xbe\\\\u005c\\xb8\\x1e\\xbeV\\\\u001a\"\\xbe[\\xd2f>\\xf5m-\\xbe\\x8d[\\xff\\xbdxS\\x9b\\xbe}r#\\xbe\\xf4\\xc10\\xbe\\x90\\xe3\\x89<4o\\x8f=\\x14\\x92\\xc3\\xbcK\\xc6F\\xbd,\\x90%=\\\\u000a\\xdf\\xea<P7\\x07\\xbd\\xf75\\xb7\\xbd\\xff\\xabF\\xbd\\xc5O\\xbd\\xbe\\xc88\\x01\\xbd\\xfc\\x8a;=\\xa30\\x08\\xbed\\x0e\\xce=b)1=:^\\xd6=\\x87\\xc2\\\\u000a\\xbe\\xfc>S8\\xcf\\xb8\\xfd=\\xfa9&\\xbd\\xa0j_\\xbd-\\xe4.\\xbd\\x0br\\xc4\\xbd\\xf6\\xd4\\x04\\xbex_w=u\\x03y<\\xe6:r\\xbdY\\xe1\\xd0\\xbd`%\\x87<\\xc3C9>\\xb0y&<e\\xbf\\xba\\xbd\\x961\\x97;\\x12\\x04\\x9d>\\xf5\\x91\\xde\\xbdIB\\t>#\\xcf*\\xbeq\\xaa\\xb5=TB\\x1c\\xbe\\xf1\\xbf\\\\u000a\\xbd)\\x8a\\xc2=V\\xea\\xae\\xbd\\xa2\\x7f\\xc4=4\\xb5\\xf1\\xbd$j\\xc6\\xbb\\\\u000a\\x80\\x08<\"3\\x02>\\xa9\\xa3\\xf2=,r\\xb7=\\x97\\xc1\\x10>\\x8c\\xc7\\x88=C\\x9a\\x85=lUY=\\x0b\\xc5\\x07>\\xef\\xa8\\xeb\\xbd\\x94\\xb0\\xc2\\xbcC\\x911>c>]\\xbf\\\\u0000V\\x8e= \\xf3D\\xbd\\xca\\xc6\\x07\\xbb\\xf4\\xb4\\xb0\\xbd^\\x82\\xbe;=\\x14S\\xbe\\x98\\x82\\x90\\xbd\\x8cT\\xa5\\xbc\\x7f\\xfcJ:\\x05J\\x04>\\x0e\\xacn\\xbd)F\\\\u001a=\\xb4\\xe9\\xa3=\\xb5Z\\x0f=\\xc69\\xe5=\\xeeE\\xa2=\\xf0\\x831<:\\x02\\xc2;M\\xc3\\xc5<\\xf3\\xa6}\\xbdN\\xf8D\\xbd\\xe8\\x07\\xf0\\xbc\\xa5v\\xf6\\xbc\\xb7\\xe5\\xac\\xbd\\xd0\\x92\\xdd\\xbd\\x1c[\\xad\\xbdt\\xeb\\x94=\\xa0]\\\\u000a\\xbc\\xa3\\xc2\\xea\\xbd?\\xb0\\x84>\\xa5Lz\\xbdS\\xa9\\\\u000a\\xbe\\xaeL\\xc6\\xbc\\xfa\\xf4\\xb2\\xbd\\xc7V\\x9a<\\x8b\\x17o\\xbe\\xf1@\\x94=>5D\\xbe\\xee\\x84w<f\\\\u000d\\x85<\\xfeJ\\xab=\\xceMD>\\x1d\\xbdB\\xbdE\\x7f\\xcc\\xbb\\xa6\\xc4\\x92>\\xf1#h=\\x99\\x97\\\\u000a=\\x85\\x10\\x9a=FN\\x83<4\\xc2\\xc5\\xbcDqF=\\x04\\x89(>\\xc8\\xb8\\x11\\xbd@^\\xd1\\xbd\\xde\\x7fC>5M\\xfd=\\xb8\\xb2O\\xbe\\x98a\\xd4\\xbd\\x86\\x83o\\xbe\\xda\\xe8\\x9d>$:\\x89\\xbd\\xfcAY\\xbd\\xae\\xfeu\\xbd\\xbd\\xa52\\xbd\\x91\\x14\\xba<\\xc5t/\\xbe\\x10\\\\u005c\\xc2\\xbc\\xe1\\x92h=\\xc8\\xe5\\x8e\\xbe\\xfeZ\\x9a\\xbe\\xff\\xdc\\\\u000d\\xbe\\xdd\\xaeD\\xbe\\x90 1\\xbdkq8>dE\\x8f=\\xb8\\xe9\\\\u001a\\xbeM\\xbc[=\\xb3\\x8f\\xf9<\\x03r\\xa9\\xbd\\x96\\x88\\x98==gJ\\xbd\\xc9\\\\u000d\\x06\\xbd\\x02)\\xae\\xbd\\xb0\\\\u0000\\xe0\\xbc\\x14O\\x8e\\xbd\\xea\"\\xaa\\xbd\\xdd\\x97:>\\xdb{\\x10\\xbe%\\xd6\\xbd;\\x88n\\xeb\\xbd\\xa4\\x8d\\xa5\\xbc\\xdcm\\xa7=\\xa8y\\x1e\\xbc(\\x02S=@\\\\u000a\\x9e\\xbc\\np19\\ng7\\ntp20\\nRp21\\ntp22\\nbag2\\n(g3\\n(I0\\ntp23\\ng9\\ntp24\\nRp25\\n(I1\\n(I30\\ntp26\\ng16\\nI00\\ng5\\n(V\\x12@\\x13=\\x8b\\xdd \\xbe\\\\u001a\\xed\\xee<\\x19\\xb2L\\xbeN%\\xc2\\xbd\\xa5+s\\xbd\\xe8\\xe4\\xe4<\\xb3BB\\xbda\\xa5a\\xbd\\xddm\\x8a\\xbd\\x8ay\\x9f\\xbe\\\\u001a\\xcc1?\\xfaI\\x0e\\xbd\\x90\\x9c\\x1c\\xbfM\\x9b+\\xbeh\\x86\\x90\\xbe\\x07F1\\xbe\\xf94>>\\x98\\xeb\\xb2\\xbd\\xe0\\x0e\\xf0\\xbdg\\xd6\\xe2\\xbc\\x0cV}\\xbde\\xd6B\\xbdwCU\\xbd\\xbd\\xd9}\\xbe\\xfc\\x9b\\xd7\\xbd\\xbcE\\\\u0000\\xbe\\xb7\\x17\\xae\\xbe\\xbbX\\x11\\xbe\\xcd\\xb2\\xe0\\xbe\\np27\\ng7\\ntp28\\nRp29\\ntp30\\nbaa(lp31\\ng2\\n(g3\\n(I0\\ntp32\\ng9\\ntp33\\nRp34\\n(I1\\n(I30\\nI6\\ntp35\\ng16\\nI00\\ng5\\n(VC\\xb6<\\xbe\\xa9\\xf2\\x14;U\\xf8\\x07\\xbd(\\xb2A\\xbcR\\xd4\\xee\\xbdl\\xf6\\x0c\\xbe\\xb4\\x93j>\\x98\\x82\\xac<\\xff\"S>\\xcfFG\\xbe\\xd6\\xd5\\xd7\\xbd`\\x03\\xe1\\xbd\\xf8\\x98\\xfe\\xbd}\\x05\\\\u001a?.t\\xf7<\\x0c\\xcdd>\\xeca\\xb2=\\xd2\\x1f\\xd0\\xbd\\xae\\xa7\\xb3=\\x18\\xb6K\\xbd:\\xac\\xdc\\xbd>]\\x0b\\xbe\\x8a>\\x94\\xbe\\xe4\\xcc\\xf2<\\xfd\\xf9?>Ej\\xc0\\xbc8\\x97\\x9e>\\x94\\xae\\x15\\xbe/~\\x81>\\x157\\xf3\\xbd\\\\u001a\\\\u000aj>\\x15\\x12\\x81>V>\\x92\\xbd\\xe6\\xd0?=\\xc2\\xe6\\xc3>\\xe3=\\xc5>w\\x17\\x7f\\xbe\\xeeZ\\xbb<\\xdb\\xe7\\x8a=[\\xff\\xe4=l\\xac|\\xbeI\\x96\\xdc=4w\\x8a>W\\x13\\xb8>\\xfd\\x88\\x91>P\\x12~\\xbc\\x8fA\\xc8>\\xaf\\xe5\\x9c\\xbdt\\xde\\xc0\\xbe\\x15n3\\xbd\\x1b\\x90\\x83>\\xa9\\xe8l\\xbe6\\xf5\\xdf=O\\x82\\x99>\\x0e\\x0f\\xe2=o[\\xa1\\xbei\\xc1?\\xbe\\x96\\x85\\x9e\\xbd4\\xbc\\x8d=\\x80A\\x0c>I9\\xc8={\\xf3\\xdd\\xbd\\xd0\\x18\\xca=dQ\\x80<\\x9c\\x88\\x87=I\\x89c>\\xd2\\x96\\xf5;\\xd6?\\\\u001a\\xbd\\xf1\\x9a\\xf2;\\x8dm\\x1e?\\xb5\\x0fY\\xbd\\x1eW\\x1c=\\xe4[(\\xbe\\xe1\\xca5>G{\\\\u005c>\\x03\\xa6o\\xbe\\x94\\xcf\\xb1\\xbe\\xbe\\x87\\xb9>\\xd3V\\xf9<\\x89\\x95T\\xbd\\xf5FH\\xbb\\x96\\x88B\\xbeM\\x91\\x82\\xbe\\xe7\\x97\\x86=\\xb3\\x86{>\\x14&\\x11\\xba_\\xf6\\x15>\\xcc\\xe8D;\\x1d\\xee\\x14\\xbd\\xaeN\\x12\\xbe\\x10\\xfc#>{\\x15W=\\\\u0000K\\x03\\xbc^)\\x93\\xbd)\\xb4\\x1d\\xbd\\xfc\\xe0:>,<\\x0e>\\xcda\\xad>\\xc1\\x8d\\x80\\xbd\\xa1P\\x14\\xbe\\\\u001ae|<\\x14\\xa6\\xe9=\\xe3\\xf4)<\\xa1\\xfa\\x07\\xbd)C\\xa5;\\x8bS\\x99>\\x01\\xf9\\\\u005c\\xbfU\\x06\\\\u000d=\\x06D\\xc1\\xbd\\xd1;\\xe4=%\\xb9\\x03>M\\x84\\x88<\\xbe\\xc2\\xca=\\\\u000aO\\xa0>\\x13o+\\xbe7\\x16\\x9e\\xbd\\xe4vC=\\x8e9\\xad\\xbd\\\\u000a\\xf7\\x97>\\xefTG\\xbd\\t\\xe8\\x10>\\x95\\xb9\\x80\\xbe\\x08\\xed\\xa1>t\\x18\\x9c>\\xe9\\xe4\\xa6>\\xae\\x1d\\xce\\xbd\\xec\\xeb\\x8e>\\x05\\xa8f\\xbe\\x0c\\x9a]>\\xef,\\x9b\\xbbL:\\xff=/\\x120>\\xcf\\x1b\\x85\\xbe\\x8a]\\xbc\\xbe%\\xf9 \\xbeF\\xfc\\xff<\\xc4x\\x8b\\xbb\\xd1\\xad\\x95>\\x85\\xb8&>z-\\xb5\\xbe!x\\x80\\xbe\\xec\\xb5\\x86\\xbem\\\\u005c\\x86>\\x8f9;>\\x9cZ\\x19\\xbd*\\xeb#=\\xf4\\xba\\x98\\xbcb\\xd3G=s\\xc58=FY\\xbd\\xbe\\xf2\\xe5\\x8c>\\x86\\xde><\\xbe)\\x91>\\xb9Nm\\xbe\\xabz\\x8a\\xbe\\x16\\x1d\\xb7>\\xb55\\xcb;~WI\\xbeP\\xaa\\xc7=_\\xcd\\x94>e\\x04O>.\\xa8K\\xbet\\x17\\xfc\\xbe\\x80\\xc2!\\xbf\\xc9]\\xbb\\xba\\x18\\xec\\xd1\\xbb\\xef\\x17\\xbc\\xbb\\xe9\\x03&\\xbb24\\x8b>F6\\x9f>\\xc0\\xcfM>9F\\xa6\\xbe\\x87!\\xbf\\xbc\\xd7e\\xff\\xbc\\x1c(\\x18\\xbfR\\x98\\xba>\\xa6\\xf6\\xc8\\xb9B\\\\u000a\\xdf\\xbb\\xe7\\xf2\\x90\\xbcY2\\xb5\\xbb\\np36\\ng7\\ntp37\\nRp38\\ntp39\\nbag2\\n(g3\\n(I0\\ntp40\\ng9\\ntp41\\nRp42\\n(I1\\n(I6\\ntp43\\ng16\\nI00\\ng5\\n(V\\xb5\\xe9M\\xbd\\\\u001a\\x06]=\\xc3\\x04\\x0c=\\xe3<C=\\xc6Q|\\xbc\\xe5\\x92\\x81=\\np44\\ng7\\ntp45\\nRp46\\ntp47\\nbaa.'\n"
     ]
    }
   ],
   "source": [
    "import pickle\n",
    "\n",
    "a = [x.get_weights() for x in model.layers]\n",
    "\n",
    "#a = model.layers[0].get_weights()\n",
    "serialized = pickle.dumps(a, protocol=0) # protocol 0 is printable ASCII\n",
    "\n",
    "print(serialized)\n",
    "\n",
    "\n",
    "#for layer in model.layers:\n",
    "#    print(layer.get_weights())\n"
   ]
  },
  {
   "cell_type": "code",
   "execution_count": 31,
   "metadata": {},
   "outputs": [
    {
     "name": "stdout",
     "output_type": "stream",
     "text": [
      "[[array([[-1.53347790e-01,  1.93725348e-01, -1.34143800e-01,\n",
      "         6.06588870e-02,  1.15449697e-01, -1.96238130e-01,\n",
      "         1.21265054e-01,  4.45415467e-01, -1.15695763e+00,\n",
      "         3.19906652e-01,  3.49047810e-01,  6.81858063e-02,\n",
      "        -1.69943869e-01, -5.25030233e-02, -1.77881464e-01,\n",
      "         3.18547815e-01, -7.21922576e-01,  6.91537634e-02,\n",
      "        -1.72778592e-01,  1.90909028e-01,  6.43650517e-02,\n",
      "         2.32634753e-01, -1.39359221e-01,  2.49972954e-01,\n",
      "        -4.62486856e-02,  1.83688641e-01, -1.68406382e-01,\n",
      "         7.52187446e-02,  2.86563694e-01,  1.14444174e-01],\n",
      "       [-2.77907789e-01,  9.95855704e-02,  2.47451678e-01,\n",
      "         2.03887314e-01,  9.94177759e-02, -6.20349824e-01,\n",
      "         6.22073822e-02, -3.93385977e-01,  1.70611162e-02,\n",
      "        -1.90580517e-01,  3.65256518e-02, -2.49313787e-01,\n",
      "         1.74617335e-01,  6.93550259e-02,  1.83161452e-01,\n",
      "        -6.53279305e-01, -3.38830560e-01,  1.05029859e-01,\n",
      "         1.46417156e-01,  2.41734698e-01, -2.87395902e-02,\n",
      "        -4.64496464e-02, -6.22018836e-02,  2.65901178e-01,\n",
      "         1.96104825e-01,  1.53274704e-02,  2.99192548e-01,\n",
      "         2.64340758e-01,  1.32195354e-01, -2.69322377e-02],\n",
      "       [ 1.04474291e-01, -2.19289184e-01,  6.45677596e-02,\n",
      "         6.91781417e-02,  1.17781386e-01, -2.08809301e-01,\n",
      "         2.16719329e-01, -5.42868137e-01,  3.90389949e-01,\n",
      "        -8.02214444e-03, -7.51311108e-02, -1.42093062e-01,\n",
      "        -1.24367528e-01,  3.06207780e-02, -8.36563036e-02,\n",
      "        -3.42951953e-01, -2.98793256e-01, -1.75518900e-01,\n",
      "        -1.26843333e-01, -1.69497803e-01, -1.82220444e-01,\n",
      "         8.47949535e-02,  1.61155596e-01,  1.74389705e-02,\n",
      "         1.51327685e-01, -9.04026404e-02, -1.65592104e-01,\n",
      "         2.82511562e-01, -5.98688900e-01,  1.18266977e-02],\n",
      "       [ 2.00453818e-01, -8.75949562e-02,  1.39375851e-01,\n",
      "         3.96374092e-02, -8.17382187e-02, -3.73749346e-01,\n",
      "        -2.76726693e-01,  2.19100088e-01,  2.30555236e-01,\n",
      "        -2.46938065e-01, -1.10968165e-01, -1.21558055e-01,\n",
      "         1.47909567e-01, -4.25459266e-01, -1.94527909e-01,\n",
      "         2.36447126e-01, -1.29552364e-01,  1.80791281e-02,\n",
      "         3.29439677e-02,  1.21022366e-01, -2.68253591e-02,\n",
      "         2.01534331e-02,  8.37751701e-02, -6.90584704e-02,\n",
      "        -5.01977801e-02,  6.87268144e-03, -8.64832997e-02,\n",
      "        -2.35045448e-01,  1.89871714e-01,  2.66938545e-02],\n",
      "       [ 1.40891612e-01, -1.67000920e-01,  3.49085718e-01,\n",
      "         3.27087753e-02, -2.65717924e-01, -3.12897980e-01,\n",
      "        -5.42435050e-01, -1.06009049e-02,  4.95692670e-01,\n",
      "         7.70437643e-02,  1.33314595e-01,  1.80927947e-01,\n",
      "         1.46665573e-01,  1.98895589e-01,  1.10748269e-01,\n",
      "         4.83439006e-02, -2.81610548e-01,  6.73027243e-03,\n",
      "         4.96849008e-02, -1.33233786e-01,  2.44884565e-01,\n",
      "        -2.90798485e-01, -3.37913111e-02, -5.69068380e-02,\n",
      "        -4.41955477e-02,  6.68169111e-02,  3.07188451e-01,\n",
      "        -2.78428972e-01,  3.84536803e-01, -4.91870463e-01],\n",
      "       [ 9.61055905e-02,  7.19672069e-02,  2.83838868e-01,\n",
      "        -2.77782351e-01,  3.56189758e-01,  2.12241672e-02,\n",
      "         2.04049140e-01,  2.95455270e-02,  7.98990577e-02,\n",
      "         2.94895291e-01, -1.30633675e-02,  3.83699238e-01,\n",
      "        -1.51120245e-01, -2.84931123e-01,  4.49088663e-01,\n",
      "         2.31265470e-01, -3.09285492e-01,  9.49013531e-02,\n",
      "         1.49057835e-01,  3.82435396e-02,  7.35372156e-02,\n",
      "        -3.35306764e-01, -7.80014042e-03,  9.34818909e-02,\n",
      "        -1.56261146e-01, -3.21069330e-01, -8.99790153e-02,\n",
      "        -1.56593174e-01, -2.11294703e-02,  8.20865855e-02],\n",
      "       [ 1.32257506e-01,  1.01665463e-02,  3.55130851e-01,\n",
      "         1.92674071e-01,  1.20375849e-01, -6.19571470e-02,\n",
      "        -1.32438624e-02, -1.91418871e-01,  2.12383986e-01,\n",
      "         3.33188444e-01,  5.26586920e-02,  2.37091094e-01,\n",
      "         6.60197586e-02,  3.66680026e-01,  2.34457217e-02,\n",
      "        -7.70494938e-02,  2.48597607e-01,  2.23706961e-01,\n",
      "         3.54720861e-01,  1.09959453e-01,  4.62405421e-02,\n",
      "        -1.55542374e-01, -2.15744883e-01, -3.52179706e-02,\n",
      "        -3.71131629e-01,  3.14011633e-01,  1.51559636e-01,\n",
      "        -1.47849252e-03, -3.15778732e-01,  9.54649597e-02],\n",
      "       [ 1.02148829e-02,  1.76347300e-01,  4.22985144e-02,\n",
      "         5.60826808e-02,  7.83583149e-02, -7.72438794e-02,\n",
      "         8.98550898e-02, -1.63771704e-01,  6.04474992e-02,\n",
      "         3.44816893e-01,  1.06109045e-01,  2.07208857e-01,\n",
      "         9.33150575e-02, -3.37587476e-01, -1.17062770e-01,\n",
      "         1.66156158e-01,  3.35454643e-01,  2.47258544e-01,\n",
      "        -1.35313556e-01,  4.15488817e-02, -1.64305821e-01,\n",
      "        -1.82834640e-01, -7.21129328e-02,  1.41245008e-01,\n",
      "         2.53915817e-01,  1.39729843e-01,  4.56630550e-02,\n",
      "         6.19131178e-02, -9.48650688e-02,  8.28563198e-02],\n",
      "       [ 9.44768712e-02,  2.56798305e-02,  3.23547602e-01,\n",
      "        -3.06632798e-02, -2.17915624e-01,  2.47712299e-01,\n",
      "        -1.42123386e-01, -2.02915948e-02,  2.42722452e-01,\n",
      "         4.78204936e-01,  2.52683222e-01, -1.40135556e-01,\n",
      "         3.98558974e-02,  1.23787120e-01,  6.27734140e-02,\n",
      "         1.23033561e-01,  1.49676889e-01,  2.73110986e-01,\n",
      "         2.88783461e-01, -2.33507119e-02, -2.52201051e-01,\n",
      "         3.16767022e-02, -3.80014747e-01, -2.38289367e-02,\n",
      "         9.16911438e-02,  4.24067006e-02, -1.86980769e-01,\n",
      "        -1.55493274e-01,  4.64226931e-01,  1.95774078e-01],\n",
      "       [-7.40787610e-02, -5.54270633e-02,  1.32494926e-01,\n",
      "         4.83341783e-01,  3.70659418e-02, -7.61201009e-02,\n",
      "         1.31603405e-01, -3.19175981e-02,  2.19769761e-01,\n",
      "        -4.86129299e-02,  1.39585733e-01, -1.46914288e-01,\n",
      "         1.43938765e-01, -1.51807919e-01,  2.36454830e-01,\n",
      "         1.50118232e-01, -4.37080115e-02, -1.37108192e-01,\n",
      "        -2.48538241e-01,  8.72893110e-02,  1.22239001e-01,\n",
      "         2.63995498e-01, -2.07838252e-01, -3.27643961e-01,\n",
      "         2.39038840e-01, -1.03734948e-01,  8.15636292e-02,\n",
      "        -1.92298025e-01, -6.52695149e-02, -3.35695930e-02],\n",
      "       [ 5.18875793e-02, -1.71903968e-01, -3.98960859e-02,\n",
      "         6.10779077e-02, -4.64546345e-02,  1.16806783e-01,\n",
      "        -4.34633084e-02,  1.12373345e-01, -2.68513083e-01,\n",
      "         2.26863325e-01, -1.04833648e-01,  1.90166086e-02,\n",
      "         6.02222681e-02,  7.81283155e-02, -2.46011049e-01,\n",
      "        -9.01930109e-02,  1.69019908e-01,  3.25061738e-01,\n",
      "         1.79254785e-01,  6.57722503e-02,  1.01218447e-01,\n",
      "        -4.79006246e-02,  2.33180020e-02,  1.01573575e+00,\n",
      "        -1.35922164e-01,  7.59622604e-02, -1.71305150e-01,\n",
      "         1.33265913e-01, -5.24824381e-01, -2.41005689e-01],\n",
      "       [-1.64748952e-01, -1.45580703e-02, -1.31048441e-01,\n",
      "        -1.43166613e-02, -2.03724220e-01,  2.09716678e-01,\n",
      "         2.83522736e-02, -1.90142125e-01, -2.67216712e-01,\n",
      "        -2.18255073e-01,  2.22707033e-01, -7.58328438e-02,\n",
      "        -1.09644763e-01, -3.32604758e-02, -3.54353450e-02,\n",
      "         5.86500227e-01, -2.79703140e-01,  1.18651241e-01,\n",
      "         3.76680493e-02, -2.26536900e-01,  1.59156188e-01,\n",
      "         1.45148009e-01, -8.28785300e-02, -1.68478161e-01,\n",
      "        -7.38982856e-02, -1.31381407e-01, -2.53116190e-01,\n",
      "         1.24480255e-01,  6.91478178e-02, -2.42046177e-01],\n",
      "       [ 1.02266565e-01, -2.21940935e-01, -1.61025465e-01,\n",
      "        -2.10575551e-01,  3.32698852e-01, -1.19050346e-01,\n",
      "        -9.18352604e-02, -7.22883567e-02,  1.57619625e-01,\n",
      "        -4.91343200e-01,  4.04704511e-01, -7.27087483e-02,\n",
      "        -5.33438027e-02, -1.66522011e-01, -8.41581672e-02,\n",
      "         1.21607065e-01, -3.78436148e-02,  5.16820066e-02,\n",
      "        -1.58676445e-01, -4.53620195e-01, -3.52002978e-01,\n",
      "         1.83881715e-01, -8.93378071e-03, -3.61666083e-01,\n",
      "         3.20784673e-02, -2.45993882e-01,  3.36227685e-01,\n",
      "        -6.12405464e-02,  5.29651642e-01,  1.66780688e-02],\n",
      "       [ 5.51208258e-02,  3.42425145e-02, -2.59289443e-01,\n",
      "        -5.46763539e-01,  2.30581567e-01, -4.18222278e-01,\n",
      "         6.63008615e-02, -1.87474281e-01, -1.08844355e-01,\n",
      "         3.11513633e-01, -1.85108840e-01, -3.22791666e-01,\n",
      "         3.49055290e-01,  3.98922227e-02,  2.15461291e-02,\n",
      "         1.01229623e-02,  1.14284782e-02, -2.66529769e-01,\n",
      "        -3.81854743e-01, -9.02437866e-02,  4.54987884e-02,\n",
      "         1.38853798e-02,  1.97455868e-01,  1.22390322e-01,\n",
      "         1.43175781e-01,  2.67129153e-01,  1.75758764e-01,\n",
      "         3.47489826e-02, -2.11080443e-02,  1.29111573e-01],\n",
      "       [-2.10069463e-01, -1.75456896e-01, -3.34880203e-02,\n",
      "         2.68229656e-02,  8.04816410e-02, -3.47810209e-01,\n",
      "         1.65591612e-01,  3.19617331e-01,  8.13613981e-02,\n",
      "        -1.66011229e-01, -1.78893268e-01,  2.18062133e-01,\n",
      "         1.89623728e-01, -1.31974533e-01,  1.69040054e-01,\n",
      "        -7.01075196e-01, -1.82500049e-01, -1.21381313e-01,\n",
      "         1.03221744e-01, -1.78009048e-01,  5.86435869e-02,\n",
      "        -2.41310835e-01,  3.61376822e-01,  1.81750983e-01,\n",
      "         2.68920243e-01,  2.86812425e-01,  1.67451333e-02,\n",
      "         2.98145443e-01, -5.49446940e-01,  4.41751443e-02],\n",
      "       [-4.44771461e-02,  1.63790375e-01, -7.62938634e-02,\n",
      "         3.45422290e-02,  3.29755172e-02, -3.36814761e-01,\n",
      "        -4.83484305e-02,  1.19076066e-01,  3.15638469e-03,\n",
      "         4.96432334e-02, -1.75714001e-01,  2.20548972e-01,\n",
      "         1.25701770e-01, -2.21501008e-01,  9.18847546e-02,\n",
      "         2.92544905e-02,  1.98763713e-01, -3.09456158e-02,\n",
      "         2.01036170e-01, -6.81687668e-02, -1.38546862e-02,\n",
      "         1.08993128e-01,  3.62369008e-02, -1.07936375e-01,\n",
      "         6.64917454e-02,  1.67134538e-01,  4.48356830e-02,\n",
      "         7.64744058e-02, -2.91729905e-02,  1.70783088e-01],\n",
      "       [-2.29428738e-01,  2.95732230e-01, -3.28061692e-02,\n",
      "         3.56532544e-01,  2.30026856e-01, -1.51676731e-02,\n",
      "        -2.01648429e-01,  8.09484124e-02, -1.32070988e-01,\n",
      "         1.64010629e-01,  6.55378997e-02,  1.20682158e-01,\n",
      "         1.85846165e-01, -2.72021085e-01,  2.48201936e-01,\n",
      "         1.32560283e-01, -2.68526196e-01,  1.33361697e-01,\n",
      "        -5.42019568e-02,  3.19750190e-01, -1.38862774e-01,\n",
      "         2.01891661e-01, -2.41443276e-01,  1.19046777e-01,\n",
      "        -1.42343119e-01,  2.81903837e-02,  3.42560828e-01,\n",
      "        -8.01065490e-02,  2.11840659e-01,  1.01706073e-01],\n",
      "       [-1.53903842e-01,  1.19733877e-01,  3.15031648e-01,\n",
      "        -5.16751669e-02,  2.56717771e-01, -2.69484445e-02,\n",
      "         3.63151059e-02,  2.81369358e-01,  1.05042540e-01,\n",
      "         1.01212233e-01,  1.61802500e-01,  1.02729157e-01,\n",
      "        -3.55815366e-02,  1.72250435e-01,  1.02364205e-01,\n",
      "        -1.76275983e-01,  1.16525307e-01, -2.67171830e-01,\n",
      "        -4.68643397e-01,  1.77761674e-01,  1.17596537e-01,\n",
      "         9.41206515e-02, -1.07155710e-01,  1.73353583e-01,\n",
      "         8.50116909e-02,  1.23977475e-01,  3.28670889e-02,\n",
      "         8.88479203e-02,  2.95376509e-01,  1.27941802e-01],\n",
      "       [ 9.00829956e-02, -1.74996942e-01,  1.32585227e-01,\n",
      "        -2.57074973e-03,  8.08080360e-02, -1.44241452e-01,\n",
      "         3.31519097e-02, -1.82791874e-01, -2.83410475e-02,\n",
      "         8.15794840e-02, -1.04419462e-01, -7.52563775e-02,\n",
      "        -3.57951671e-02, -3.59432042e-01, -1.05290055e-01,\n",
      "        -2.27220923e-01,  1.72672924e-02,  1.54255673e-01,\n",
      "        -5.12212366e-02, -7.72649273e-02,  8.19104835e-02,\n",
      "         1.88281953e-01,  1.39108434e-01,  2.99096406e-01,\n",
      "         6.85998350e-02,  9.66722369e-02,  8.75614658e-02,\n",
      "        -2.39473917e-02, -1.97189569e-01, -5.26055917e-02],\n",
      "       [ 1.15152858e-01, -2.93980688e-01, -2.62797117e-01,\n",
      "        -8.57440755e-02, -2.06435084e-01, -1.88983276e-01,\n",
      "        -1.19513914e-01,  5.69499098e-02,  2.75957346e-01,\n",
      "        -1.49376497e-01,  4.29019704e-02,  9.15721990e-03,\n",
      "         3.60211059e-02,  3.01380605e-01,  8.42289347e-03,\n",
      "         2.88905320e-03, -2.00813368e-01,  1.77349508e-01,\n",
      "        -2.47064948e-01,  1.51224136e-01, -1.17752545e-01,\n",
      "        -5.17687909e-02, -1.30704209e-01, -2.17369899e-01,\n",
      "         1.80929471e-02, -1.81831673e-01,  8.15910324e-02,\n",
      "        -3.36554199e-02, -3.37473415e-02, -7.31458142e-02],\n",
      "       [ 1.99109297e-02, -3.25282104e-02, -2.12061331e-01,\n",
      "        -3.76566090e-02, -2.49104843e-01, -3.46942544e-01,\n",
      "        -1.27895430e-01, -2.11322308e-01,  4.10328321e-02,\n",
      "        -8.83187503e-02,  1.02578901e-01,  4.86791171e-02,\n",
      "         6.05266467e-02,  1.05744079e-01,  1.56310067e-01,\n",
      "         5.76885082e-02, -8.04314539e-02,  7.49108046e-02,\n",
      "         3.57401930e-02,  7.98959285e-02, -8.51331577e-02,\n",
      "         2.97178328e-02, -6.34959266e-02,  5.60827367e-02,\n",
      "         4.11143154e-02,  4.55314778e-02,  7.25839436e-02,\n",
      "        -1.62702054e-01,  4.59373832e-01,  1.57795727e-01],\n",
      "       [-1.92427803e-02,  1.19413972e-01,  1.74119277e-03,\n",
      "        -8.51034671e-02, -1.44487601e-02,  1.42348588e-01,\n",
      "         9.11924094e-02, -3.38207036e-02, -1.22757807e-01,\n",
      "         1.53910071e-02, -5.23435287e-02,  1.16350770e-01,\n",
      "         2.68153492e-02,  2.36561641e-01,  3.11087985e-02,\n",
      "         6.57459572e-02,  8.52474496e-02, -1.48038909e-01,\n",
      "         7.19290460e-03, -9.37809944e-02,  3.13763134e-02,\n",
      "         3.77334841e-02,  5.08711487e-02,  7.65861664e-03,\n",
      "         1.86277077e-01,  1.72948241e-01, -1.52562752e-01,\n",
      "        -7.80716762e-02,  1.56241119e-01,  1.23266876e-01],\n",
      "       [ 1.36969164e-01, -3.63660082e-02,  1.80437177e-01,\n",
      "         2.70490617e-01,  1.54717609e-01, -1.08281290e-02,\n",
      "         2.64507234e-01, -1.05604623e-02, -5.24763130e-02,\n",
      "         2.82794029e-01,  4.75460678e-01, -4.54056188e-02,\n",
      "         4.87756357e-02,  8.49276334e-02,  6.31578043e-02,\n",
      "        -1.76602751e-01, -4.26173285e-02, -4.84853052e-02,\n",
      "        -2.88517773e-01,  1.80664137e-01,  8.63315389e-02,\n",
      "        -1.04801245e-01, -2.33157501e-01, -5.72605610e-01,\n",
      "         1.60220824e-02,  1.73780084e-01,  1.38309121e-01,\n",
      "         1.70239776e-01, -6.14460647e-01, -5.70235820e-03],\n",
      "       [ 9.37865824e-02, -2.93997198e-01,  3.14027630e-02,\n",
      "         1.43022969e-01,  2.03063846e-01, -1.32312670e-01,\n",
      "         1.89981237e-01, -1.08711533e-02, -3.91882844e-02,\n",
      "        -3.48376706e-02,  1.84351563e-01,  4.65864986e-02,\n",
      "         1.62872985e-01, -7.35671744e-02,  1.06881276e-01,\n",
      "         3.92378904e-02,  4.61420640e-02, -3.53477895e-02,\n",
      "         3.94217223e-02,  7.94009790e-02,  2.26889446e-01,\n",
      "         4.06262092e-02,  1.35247514e-01, -3.66375111e-02,\n",
      "        -2.87813127e-01,  5.98751381e-02,  3.63631621e-02,\n",
      "         2.28823185e-01, -2.52070546e-01, -1.14795059e-01],\n",
      "       [ 2.75425762e-01,  1.64757997e-01,  1.01454735e-01,\n",
      "         1.17713608e-01,  5.88944927e-02, -5.01149110e-02,\n",
      "         4.05799486e-02, -4.52051163e-01, -2.08228692e-01,\n",
      "         7.34295696e-02, -6.38376102e-02,  2.41889074e-01,\n",
      "         1.40386879e-01, -3.41208845e-01, -7.43718520e-02,\n",
      "        -2.06853881e-01, -1.40035465e-01,  2.65856892e-01,\n",
      "        -3.76307547e-01,  1.36234090e-01,  1.04648538e-01,\n",
      "         4.25713807e-01, -2.60294795e-01, -8.83675143e-02,\n",
      "        -1.62405532e-03,  2.93798774e-01,  5.38145490e-02,\n",
      "        -1.51140615e-01,  1.73183829e-01,  1.47436917e-01],\n",
      "       [ 2.09417596e-01, -1.42319694e-01,  1.28325552e-01,\n",
      "         1.77009091e-01,  1.12889685e-01, -7.11530745e-02,\n",
      "        -5.36817424e-02, -2.72023618e-01,  1.53789511e-02,\n",
      "         7.21998811e-02, -1.77883089e-01,  1.95984751e-01,\n",
      "        -1.14398278e-01,  8.76929760e-02,  6.05202615e-02,\n",
      "         1.73648559e-02,  1.33626416e-01, -2.70227700e-01,\n",
      "         9.79385450e-02,  7.23426938e-02,  3.03191900e-01,\n",
      "         7.79432058e-02, -3.70006706e-03, -2.63332009e-01,\n",
      "        -7.13962987e-02,  2.29747683e-01,  1.23313002e-01,\n",
      "        -1.71247751e-01, -5.09216130e-01,  3.94686520e-01],\n",
      "       [ 4.24763821e-02, -2.73453563e-01,  2.04850584e-02,\n",
      "         1.46663010e-01,  1.51494056e-01, -2.72439241e-01,\n",
      "         2.80332744e-01,  7.34808743e-02, -1.24642469e-01,\n",
      "         4.00574058e-02,  1.26580060e-01,  1.22646928e-01,\n",
      "        -8.83461013e-02, -7.83371627e-02, -1.88867956e-01,\n",
      "         4.52477448e-02, -4.02976573e-02, -2.92943984e-01,\n",
      "        -5.14901765e-02,  9.01301131e-02,  1.65993914e-01,\n",
      "        -3.30484480e-01,  2.00023726e-01,  2.89092120e-02,\n",
      "         6.11843765e-02,  1.55397117e-01,  4.95885536e-02,\n",
      "         1.80886522e-01, -6.88595533e-01, -7.28763118e-02],\n",
      "       [-1.56256203e-02, -1.70563072e-01,  1.83646038e-01,\n",
      "        -1.66234300e-01, -2.01476038e-01, -2.43172690e-01,\n",
      "        -1.52416170e-01,  2.35760599e-01, -9.93579999e-02,\n",
      "         7.07156882e-02,  3.64783891e-02,  1.48963511e-01,\n",
      "         2.34113067e-01, -7.46472105e-02, -1.14000298e-01,\n",
      "         5.17847389e-02,  7.02806786e-02,  2.49739423e-01,\n",
      "         1.16204150e-01,  1.95197776e-01, -1.91967592e-01,\n",
      "         9.17680115e-02, -5.37457466e-02,  8.80689919e-02,\n",
      "        -6.90741241e-02, -2.67942488e-01,  1.51701257e-01,\n",
      "        -1.12680502e-01,  1.13430731e-01,  1.10414945e-01],\n",
      "       [-1.81893222e-02, -9.86269563e-02,  7.33347014e-02,\n",
      "        -5.89209497e-02, -7.17471121e-03,  1.51555687e-01,\n",
      "        -6.94293082e-02,  6.71292022e-02,  6.76238984e-02,\n",
      "         1.05319612e-01, -1.16419345e-01, -2.32425760e-02,\n",
      "        -1.64287761e-01,  1.28814057e-02, -3.90634649e-02,\n",
      "        -1.67183724e-04,  7.08173662e-02, -5.66383265e-02,\n",
      "        -5.32813929e-02, -2.47008982e-03, -2.69517809e-01,\n",
      "         1.05457559e-01, -1.76569447e-01,  2.54950315e-01,\n",
      "         1.02020547e-01, -2.14213133e-02, -3.74921714e-03,\n",
      "        -2.87043512e-01,  4.94499683e-01,  2.07159631e-02],\n",
      "       [-6.15225062e-02, -2.26587299e-02, -1.03742428e-01,\n",
      "         4.90097888e-02,  1.40044138e-01, -6.15094155e-02,\n",
      "         2.86742523e-02, -6.66908175e-02,  1.02714397e-01,\n",
      "        -1.06793627e-01,  6.82712346e-02,  8.07789117e-02,\n",
      "        -7.89930820e-02,  1.80300012e-01,  7.55746514e-02,\n",
      "         1.58088058e-01,  7.38105476e-02, -6.65101781e-02,\n",
      "        -2.47667789e-01,  1.90580145e-01,  1.49569780e-01,\n",
      "        -3.74698937e-02, -1.93467125e-01, -7.40271881e-02,\n",
      "        -7.67078847e-02,  1.49668783e-01,  9.04362351e-02,\n",
      "         9.46894661e-02, -1.30024254e-01, -1.98904498e-04],\n",
      "       [-3.92147452e-01,  2.61872053e-01, -1.84459239e-01,\n",
      "        -2.16424540e-01,  2.23537609e-01, -1.94936872e-01,\n",
      "        -9.14069638e-02,  1.01738863e-01,  6.30660877e-02,\n",
      "        -5.79685867e-01, -4.31531817e-01,  8.45566839e-02,\n",
      "         1.01699963e-01, -2.85140574e-01, -6.12859353e-02,\n",
      "         2.53972709e-01, -7.78084248e-03, -1.18590161e-01,\n",
      "         1.11269996e-01,  8.84089470e-02,  2.06982806e-01,\n",
      "        -4.13939863e-01,  6.56663001e-01, -2.51437668e-02,\n",
      "         3.99665087e-01,  5.03163831e-03,  6.77973852e-02,\n",
      "         4.78116013e-02, -3.86734724e-01,  3.57889868e-02],\n",
      "       [-1.91342250e-01,  4.67302604e-03, -3.57248448e-02,\n",
      "        -2.40183830e-01,  5.65008074e-02,  1.68209955e-01,\n",
      "         1.22049667e-01,  3.97609398e-02, -3.89144607e-02,\n",
      "        -3.30447316e-01, -3.95004451e-01,  6.82674572e-02,\n",
      "         1.69191092e-01,  1.29086629e-01,  2.81946063e-01,\n",
      "         1.27492949e-01, -2.99069732e-01,  8.89764130e-02,\n",
      "         4.29526307e-02,  1.07582934e-01, -2.96296090e-01,\n",
      "        -2.19892636e-01,  4.39665169e-01, -3.05981934e-02,\n",
      "        -1.13165528e-01,  1.65655732e-01,  1.90840229e-01,\n",
      "        -1.76574245e-01, -2.36399733e-02, -8.94094631e-02]], dtype=float32), array([ 0.40504366,  0.07673007,  0.10301325,  0.18661574,  0.14153057,\n",
      "       -0.0296189 ,  0.22272807, -0.03973205,  0.19226405,  0.3241021 ,\n",
      "        0.16098377,  0.19333273, -0.0486623 , -0.07103702,  0.0922634 ,\n",
      "        0.07749433,  0.05532742,  0.1654042 ,  0.1796946 ,  0.06500062,\n",
      "        0.12949477,  0.27500844, -0.39491537, -0.04567842, -0.03751639,\n",
      "       -0.01652862,  0.18242022,  0.17889597, -0.48556286,  0.25363004],\n",
      "      dtype=float32)], [array([[-1.70035303e-01, -2.69693166e-01,  3.28034699e-01,\n",
      "         4.97908928e-02,  7.75460824e-02, -5.43166921e-02,\n",
      "         3.93515497e-01,  3.38395894e-01,  8.59940946e-02,\n",
      "         2.63711095e-01],\n",
      "       [ 1.30520746e-01, -1.65998772e-01,  2.36553818e-01,\n",
      "        -1.88895434e-01,  2.14267269e-01, -2.86064237e-01,\n",
      "         2.22297594e-01,  8.87847319e-02,  2.48631790e-01,\n",
      "         8.57995376e-02],\n",
      "       [-1.03719279e-01, -1.91728286e-02,  1.09002650e-01,\n",
      "         2.26700723e-01,  2.07852870e-01, -6.20281279e-01,\n",
      "         1.60061307e-02,  1.56382564e-02,  1.65490419e-01,\n",
      "        -2.79336035e-01],\n",
      "       [ 3.94446611e-01, -6.98684305e-02,  2.51910239e-01,\n",
      "        -3.60063046e-01,  3.13776761e-01,  3.21180224e-01,\n",
      "         9.58625600e-02,  1.37903631e-01,  5.02479613e-01,\n",
      "        -3.31362069e-01],\n",
      "       [ 2.38898277e-01, -4.10454452e-01, -3.37983817e-01,\n",
      "        -4.15339798e-01, -1.01175765e-02, -9.24294740e-02,\n",
      "         2.31615916e-01,  3.08359414e-01, -2.61631638e-01,\n",
      "         2.90398926e-01],\n",
      "       [ 1.55652687e-01, -3.64716768e-01,  2.14691654e-01,\n",
      "         1.89884841e-01,  3.90377551e-01,  1.84357822e-01,\n",
      "        -4.35210943e-01,  3.47658813e-01, -1.11195512e-01,\n",
      "        -2.80615866e-01],\n",
      "       [ 2.82770693e-01,  3.34632397e-01,  2.48290241e-01,\n",
      "        -7.08406940e-02, -3.43331158e-01, -4.48652878e-02,\n",
      "         2.78308511e-01,  2.59810537e-01,  3.69138420e-01,\n",
      "         1.25405386e-01],\n",
      "       [ 9.17415097e-02, -2.13151962e-01,  3.29169869e-01,\n",
      "        -6.35878071e-02, -1.90334350e-01, -1.67226315e-01,\n",
      "         2.85171837e-01, -6.55978322e-02,  4.51806456e-01,\n",
      "         2.51077354e-01],\n",
      "       [ 1.34709269e-01,  2.06218660e-01,  5.32711804e-01,\n",
      "        -6.92690909e-02, -1.85068399e-01,  1.48312852e-01,\n",
      "         3.79722893e-01, -1.28309846e-01,  2.76333869e-01,\n",
      "         3.67923528e-01],\n",
      "       [-7.16639962e-03, -6.20390214e-02,  5.27642369e-01,\n",
      "         2.25274593e-01,  2.54016314e-02,  2.52370179e-01,\n",
      "        -2.92605996e-01,  1.50334910e-01, -3.30314994e-01,\n",
      "         2.12074921e-01],\n",
      "       [ 1.60364881e-01, -1.61230072e-01, -2.62872666e-01,\n",
      "        -3.37044507e-01,  3.46637517e-01, -1.98792756e-01,\n",
      "         3.57659876e-01,  1.66154206e-01,  1.59624182e-02,\n",
      "        -1.16312794e-01],\n",
      "       [ 1.90284505e-01,  2.83448696e-01,  1.01832405e-01,\n",
      "        -1.28887430e-01,  2.60565817e-01,  5.18991426e-02,\n",
      "         3.80760401e-01,  4.62649716e-03, -2.89344698e-01,\n",
      "        -1.53708920e-01],\n",
      "       [-2.71295875e-01,  1.06007919e-01, -1.76850766e-01,\n",
      "        -1.65780187e-01,  1.44317091e-01,  9.79987383e-02,\n",
      "        -3.20309311e-01,  6.25467226e-02, -1.11286260e-01,\n",
      "         1.60435930e-01],\n",
      "       [ 3.61961254e-04,  2.78057516e-01, -2.61572171e-02,\n",
      "        -5.51534723e-03, -9.44633931e-02,  2.15947628e-01,\n",
      "         1.56752110e-01, -4.20877218e-01,  6.47390485e-02,\n",
      "         3.41832340e-01],\n",
      "       [-7.46255517e-02, -3.72415453e-01,  3.45303446e-01,\n",
      "         3.02061111e-01, -1.01567954e-02, -5.47405660e-01,\n",
      "        -6.08707443e-02,  3.10158581e-01, -3.04538906e-01,\n",
      "        -2.61015445e-01],\n",
      "       [ 4.39407304e-02, -1.92549393e-01,  6.70273185e-01,\n",
      "         1.26120135e-01,  1.91017017e-02,  3.33950222e-01,\n",
      "         2.29088262e-01,  4.36653972e-01,  4.73181516e-01,\n",
      "         1.16658367e-01],\n",
      "       [ 1.55765340e-01,  2.29464978e-01, -1.59910560e-01,\n",
      "         1.67471588e-01,  4.70363170e-01,  6.24289274e-01,\n",
      "        -3.81838322e-01,  2.04608619e-01,  1.78817257e-01,\n",
      "        -4.49770004e-01],\n",
      "       [ 4.64090377e-01, -8.27710256e-02,  1.41027555e-01,\n",
      "         3.43193039e-02, -3.03938668e-02, -1.86952382e-01,\n",
      "         3.03578675e-01,  9.97980088e-02,  8.22401866e-02,\n",
      "        -1.35800513e-02],\n",
      "       [ 2.36586452e-01, -7.56374095e-03, -5.57461865e-02,\n",
      "        -1.84368342e-01, -1.01663828e-01, -2.48876944e-01,\n",
      "         2.89069444e-01, -5.02823174e-01, -1.39496788e-01,\n",
      "         2.04097226e-01],\n",
      "       [ 3.69289935e-01, -4.04691756e-01,  3.58541042e-01,\n",
      "        -7.50992149e-02, -1.83577556e-02, -2.31015339e-01,\n",
      "        -2.92463392e-01, -1.70250639e-01, -6.82124868e-02,\n",
      "         1.94694787e-01],\n",
      "       [-3.97130735e-02, -2.12185606e-01,  2.98549086e-01,\n",
      "        -7.92044103e-02, -2.30261199e-02, -1.85402809e-04,\n",
      "         1.11756483e-04, -6.56657442e-02, -2.73240954e-01,\n",
      "         1.24445520e-02],\n",
      "       [ 2.67892390e-01, -1.60657704e-01,  5.98316714e-02,\n",
      "         5.54005392e-02,  6.88596023e-03,  3.24120283e-01,\n",
      "         1.99547440e-01, -2.10722581e-01,  2.86353290e-01,\n",
      "         2.88221210e-01],\n",
      "       [ 3.00227523e-01,  2.88567573e-01,  5.37193239e-01,\n",
      "        -1.82354823e-01, -4.54606682e-01,  1.26965672e-01,\n",
      "         9.33160111e-02, -4.71395761e-01, -6.64680079e-02,\n",
      "        -9.91954029e-01],\n",
      "       [-2.51480460e-01, -6.93810871e-03,  3.47885907e-01,\n",
      "         5.79699688e-02, -1.40008517e-02, -5.32062411e-01,\n",
      "         5.03239669e-02,  4.45621938e-01,  3.85612160e-01,\n",
      "        -1.68506339e-01],\n",
      "       [ 3.04610699e-01,  2.94980347e-01,  2.04462737e-01,\n",
      "        -3.90329897e-01,  2.71946192e-01, -2.70336211e-01,\n",
      "         2.78898567e-01,  3.66052315e-02, -7.08238631e-02,\n",
      "         1.18210234e-01],\n",
      "       [ 4.33679894e-02, -1.70604676e-01, -1.31798433e-02,\n",
      "        -2.84291834e-01,  3.19525719e-01, -9.97387841e-02,\n",
      "        -1.06550336e-01, -1.62161559e-01,  1.97181702e-01,\n",
      "         1.58076674e-01],\n",
      "       [-2.48765722e-01, -2.49753773e-01, -3.34533513e-01,\n",
      "        -2.35761017e-01,  2.14374214e-01, -4.39895838e-02,\n",
      "         3.23269278e-01, -1.01979382e-01,  1.41305812e-02,\n",
      "         2.49923274e-01],\n",
      "       [-1.36685073e-01, -1.00623637e-01,  2.79550433e-01,\n",
      "        -1.56447276e-01, -2.75048286e-01,  2.55208760e-01,\n",
      "        -1.87165856e-01, -9.56841558e-02,  2.76878804e-01,\n",
      "         9.65789407e-02],\n",
      "       [ 5.01915097e-01,  9.53806415e-02,  1.44070685e+00,\n",
      "         9.43685472e-02, -1.21255791e+00,  4.95468467e-01,\n",
      "        -7.34424353e-01, -1.77303422e-02,  7.62453616e-01,\n",
      "         3.34459633e-01],\n",
      "       [ 2.20091343e-01, -1.28828615e-01,  4.67970669e-02,\n",
      "        -2.84745932e-01, -2.70674139e-01,  1.62379026e-01,\n",
      "        -7.06698820e-02,  4.67634141e-01,  3.92792761e-01,\n",
      "         1.18005969e-01]], dtype=float32), array([-0.06786338, -0.04876517,  0.11809648, -0.08167807,  0.07432912,\n",
      "        0.24025086,  0.1258958 ,  0.01066512,  0.22868037,  0.09338789],\n",
      "      dtype=float32)], [array([[-0.581023  ,  0.1574301 , -0.09797516, -0.1422675 , -0.36416447,\n",
      "        -0.3945385 ],\n",
      "       [ 0.04493649,  0.20370026, -0.11907603,  0.16573006,  0.42414486,\n",
      "        -0.51982516],\n",
      "       [ 0.23127823,  0.23334529,  0.21612448, -0.5496319 , -0.08304483,\n",
      "         0.16398162],\n",
      "       [-0.095919  , -0.24099337,  0.33977523,  0.43821537, -0.08065116,\n",
      "        -0.3628628 ],\n",
      "       [ 0.67507744, -0.38409775, -0.07930444,  0.10770898,  0.12909247,\n",
      "         0.05110258],\n",
      "       [-0.05785993,  0.0260463 , -0.43228605,  0.19935226,  0.07481793,\n",
      "         0.45634693],\n",
      "       [ 0.32054487,  0.36975282,  0.33965582,  0.59138834, -0.3923791 ,\n",
      "         0.11140186],\n",
      "       [-0.3275875 ,  0.46633926, -0.24071118,  0.33610785,  0.31785598,\n",
      "         0.25597185],\n",
      "       [-0.24207786, -0.81332594,  0.06763434,  0.10696492, -0.21022765,\n",
      "         0.2917379 ],\n",
      "       [-0.02687759, -0.19089933,  0.32717478,  0.12946388,  0.89631325,\n",
      "        -0.05166885]], dtype=float32), array([-0.01998351, -0.0565531 ,  0.15064757, -0.18314606,  0.07258842,\n",
      "        0.19744968], dtype=float32)]]\n"
     ]
    }
   ],
   "source": [
    "data = b'(lp0\\n(lp1\\ncnumpy.core.multiarray\\n_reconstruct\\np2\\n(cnumpy\\nndarray\\np3\\n(I0\\ntp4\\nc_codecs\\nencode\\np5\\n(Vb\\np6\\nVlatin1\\np7\\ntp8\\nRp9\\ntp10\\nRp11\\n(I1\\n(I28\\nI20\\ntp12\\ncnumpy\\ndtype\\np13\\n(Vf4\\np14\\nI0\\nI1\\ntp15\\nRp16\\n(I3\\nV<\\np17\\nNNNI-1\\nI-1\\nI0\\ntp18\\nbI00\\ng5\\n(V\\xf1\\xe80\\xbf\\x0e\\xb2\\x9a?\\xfd\\xea\\xa8=\\x9a\\xec\\x89?\\xc1\\xd6\\x06\\xbe},>@\\xa2p,\\xbd<\\xc3\\x80\\xbd\\xb2\\x11\\\\u0000\\xbf\\xe2\\x8fI\\xbeq\\xc4\\x98\\xbe\\xc8gK>]9\\t?\\xeaS\\xe2>\\xf9\\xdb\\x81\\xbe\\xd1(3<\\x80\\xe2a\\xbc4\\xf14\\xbe\\xde;\\x9b\\xbd\\xd3$\\x16\\xbfQy\\xdf>}D\\xe2>?M\\xb9>\\xf3_\\x88<W\\xd9\\\\u0000\\xbd\\xe1U\\xd9=\\xd3\\x02\\x9c>\\xee\\x1c\\xd4<D\\xe5/\\xbf\\x08\\x8c\\xb7\\xbd\\xbb4\\x18\\xbd\\xcb\\xa7Z\\xbe\\'i\\xb4\\xbe\\xe8^\\x8f>0\\x86_\\xbe\\xb1n\\x18>\\xe7\\xc2\\x9d\\xbd\\x81M.\\xbe\\xaa\\xf0d\\xbc\\x84\\\\u001a,\\xbfp\\x15\\xde\\xbdV\\xff\\xee>\"\\xb8\\\\u000a?\\x80\\xea\\x9d\\xbfs_\\xdf\\xbdP\\xd4F\\xc0\\xf7v4\\xbe\\xff\\xc4\\x9a>\\x91\\x1f[>\\x08\\xd8 =\\x87\\xd2\\x10>\\tt\\x91<\\xd0\\x15\\xa3>\\x97$Q\\xbf\\xd0\\xc6)\\xbf\\x90\\xb2k\\xbdh1b\\xbe\\x05\\\\u005cl>\\xcd\\x04\\x88\\xbeX\\xd9\\xde\\xbc\\x7f\\xa3\\x02\\xbfT\\xccw\\xbd1\\x88\\x8f>\\x95\\xc5\\xca>)\\x86\\x82=Q\\\\u005c\\x03\\xbfu\\x14\\x8b=rJ*>\\xb9\\xad\\x86\\xbe_+\\xd4<\\xcf8\\x8d=\\x1b\"\\x14>\\xf9\\xb8+\\xbfG\\xe9\\xa4=\\xce\\xb9e\\xbe~\\xa3,\\xbe\\x93\\xc6\\x0f?&\\xcb\\x04?\\xd5\\x0e\\xce>\\x8e\\x88T\\xbe\\x02\\xe0\\xb0?_=0?\\xca\\x07\\xa2\\xbfh\\xcfa>$\\xc3\\x13\\xbe\\\\u001a\\xb2\\x92\\xben\\xe2d\\xbb\\xd3\\xb4\\x80?p\\xe5\\xfa\\xbd\\xf1\\x9eh\\xbd\\xd5\\xe0\\xa6>\\xdeT\\xbe\\xbdk:B\\xc0D8\\xe4>\\xcfoI\\xbfp(W=Y&\\xa4\\xc0\\xa9M\\xa5\\xc0o\\xab\\xb5\\xbf\\xfdN\\x08\\xc0oI9?\\x0eT\\x14>V\\xd9\\xbb>\\x16\\x9d\\xc0\\xbeM\\xba\\x8e\\xbe\\xb5\\xc5\\x9e\\xbf\\x9e\\xf1 \\xbc\\xe4\\x8eG\\xbfi2\\xc6>\\x17\\xeaB\\xbe\\xfaF\\x96>q\\x81\\x83\\xbe\\x13\\xddL\\xbfJyU\\xbeyW\\x18>\\xed\\xfa\\x86==\\xe8\\x11>f\\x9fC>X1_\\xbe\\x18\\\\u0000\\xbc>T\\x9b>>\\xb3~[>EkG\\xbe\\x9b \\xc2>\\x98\\xa5\\x93\\xbeCp\\x9d=\\x87d\\xb1\\xbd\\xbd\\xef\\x8d=i\\xa3\\xc8>\\xbd\\xde\\xe8\\xbd\\xc8J \\xbehE\\x83\\xbe?\\xae\\x1b==\\xf0+\\xbf\\x89\\x06\\\\u001a>\\xceS\\xf9>X|\\x91=\\x7f\\x9d\\x98<\\x8a\\x182>fz\\x1d?\\x92\\xf8\\xbe=/&#?\\xcd$K\\xbd\\xd0\\x89\\xcd\\xbe\\x8f\\xcb\\x7f\\xbd\\x07\\x8c\\x03?\\\\u000d\\xf9\\x06?cj\\x9e\\xbeN\\xea4\\xbf\\xe0\\xd6\\xa4\\xbey\\x9c\\xbf\\xbd\\xd1\\xce\\xc3=\\\\u000az\\x11\\xbe\\x0cy\\\\u000a\\xbf\\xd6\\xb8\\x0b>\\xb5\\xaaD\\xbe\\xf0\\xd7L>\\x1e\\x96w=\\xccR&?p\"\\x8a\\xbe\\xf8\\x15W?\\\\u005c\\xcfI\\xbeT\\x1eH>~\\x10:?\\xf8\\x95z=\\xcam\\x04\\xbd\\x1e\\x11!>h\\x8b\\xbb=1+*>k\\xb2Z\\xbd\\xb4\\x80M=,\\xc4\\xcc\\xbe\\xf6Xc\\xbc\\xf8\"\\x12\\xbcn\\xa6c>\\xaeP\\xbd=\\xea4Q\\xbd\\xdeL\\x93\\xbd\\xc2\\x06P>{T\\xb3\\xbbT/\\xd2>\\x0c\\xcaQ>\\xdd\\x10n>\\xd2\\xc4\\xa3>UU#?\\xde\\x0e\\x0e>h\\xac\\xfd>\\xb5,r\\xbe\\xcd\\xb2\\xd3>\\xe7\\xd3\\xc3>9UV\\xbe\\xde\\xb7\\x02>3S>\\xbevX\\xec\\xbc\\x9c\\\\u000d\\x86=X<O\\xbfiN\\xa6=\\xde\\x04\\xa7=uL\\xda\\xbc\\xb4H\\xa7\\xbd\\xe3\\x8d\\x83=\\x9e\\x87\\xfd\\xbd\\xc4O\\x08\\xbdA\\xe2\\xd6\\xbe\\xaa\\xa2\\x87\\xbe\\xafe\\x10?7\\xcc\\xc4\\xbc\\x11m\\xb8=o t\\xbf\\xbdC\\xf6\\xbe\\x15/\\xa8\\xbe\\xb0v\\x96>$\\x88\\x9b>b\\xc8\\x85\\xbd\\xce\\x14\\x01\\xbe\\x07\\x0f{\\xbe!X\\xd9<\\x17\\xf2\\x01<X}\\xff=3\\x9d1>,\\xa3\\xaf>\\xf0\\xdd$>\\x18\\x87&?\\xe4\\xe5\\x1d\\xbcs\\x18\\xae\\xc0\\xb4\\xb0\\\\u0000?\\xbb\\xb5\\xc3@1\\x93P?8\\x86\\xa0@\\x11]\\xb2@nL\\xf3\\xbf\\xa7N_@\\x90\\xa7B=^\\xf0\\x89\\xbf\\x1f\\x98T?\\x03\\x1f\\xe6@\\xc7\\xad\\xd4\\xbd\\x89\\x98\\'\\xbdeD\\x81\\xbeWw@\\xbd..\\xd6>\\x82Y\\x96=\\x8fC\\xa6>\\x9a\\xa5y>],w=\\\\u000d\\x12\\x1e>\\xc7\\xe9\\xbe\\xbda\\xcb:>:\\xea8>g\\x05U>\\xceG\\x11>u\\xcfJ\\xbe\\xec\\x88\\xf9\\xbd\\xd2O\\xe8=\\xb2\\xf4\\xb9<\\x06\\xb09?\\xd8\\xaa\\xdb\\xbd\\xca%\\xc6\\xbd=\\xdb\\x9f\\xbd\\x98\\xef\\xf0=%\\x1fo=\\x18+\\xb7>\\\\u000a\\xce\\xa7\\xbd13\\xc4>\\x15{3\\xbd7\\xd0\\xba>\\xccQ\\x82\\xbd$\\x1e\\x14>z\\xfc\\xd2>[E\\xc1=\\x125@>7 T\\xbe\\x92D\\xab\\xbe\"\\x07E\\xbe\\xb7#\\xc6>S\\xf6\\xb8>\\xb5\\xff\\x1b\\xbd\\x06\\xeb\\xd8\\xbc\\xfe\\x07\\xa0\\xbc\\xfd\\xd5\\x0f\\xbd\\xfe\\xf9\\x19;\\x94\\xf3\\xe2<(\\xb5\\x90\\xbe:\\x86t>\\x94\\xcbH\\xbe\\x99\\x18 ?\\x05\\xbdE=y\\xb7+<\\xc1?\\x9e\\xbe:F\\x1c\\xbd\\x94\\x8d\\x85>\\xc3H\\x8b=\\\\u0000A{\\xbe\\xe9\\x916>\\xd4\\xeb\\xc4=o\\x9e\\xd2<-\\xeb\\xa4\\xbd\\xeb\\xee\\x88\\xbc*\\xce\\xd8\\xbd\\xf48\\xa9>\\xd2u\\xb6\\xbe\\x99\\xdd ?\\xdb\\xeb\\x83\\xbc\\x95 \\x96\\xbe||\\'\\xbe\\xab\\x03(>\\xa9\\x0f\\x81\\xbe\\xc2\\t\\xa6\\xbd\\x7f\\x10\\x82\\xbd\\xa8\\xf2\\xa5\\xbdd\\x1eY\\xbe\\xcb\\xefs>o\\xd5\\x87\\xbe;\\xb7n\\xbe\\xc3\\xd2\\xa2\\xbe\\xa5L\\xb0<\\xf7(\\x04>a\\xf4\\x87=A\\xe4\\x86>7\\xcd\\x10\\xbdq%\\xe2\\xbd7Mu\\xbd\\x8b\\x8dn=\\xbe\\xc4\\x86\\xbe\\xbf\\xf7\\x08\\xbe(=\\xf4\\xbe\\xf2n\\x18\\xbe\\xf6\\xc6t=\\x14\\xf8F\\xbe\\x9d\\x12\\xeb\\xbd\\x13\\x93\\xce\\xbe\\xdc\\xa3\\x05\\xbe\\x17hj\\xbd\\xdeC\\xe0\\xbd\\xfa\\x08\\x9f\\xbe/\\x9aS>y\\xbc|=\\x15\\xb6V\\xbb\\xf3E\\\\u000d\\xbd\\xef\\xad\\x8e>g\\x85\\x12\\xbf\\x18<v?\\x96(\\x94>\\xd7p\\'\\xbf\\x908\\\\u001a\\xbe\\x10{\\x1d\\xbfB\\x1e\\x9f\\xbd\\x96\\xa6\\x12\\xbe\\xaf\\xf6,?\\x84i\\\\u001a\\xbeYi\\\\u005c\\xbf\\xe8\\xcb\\xf6\\xbc\\xd8\\x83\\xb5\\xbd\\x8f{\\xee\\xbe.@\\xdc\\xbeSv\\x7f\\xbe\\xafN?\\xbd\\xa5\\xe8\\x13\\xbd\\x93\\xeb\\x16\\xbf\\xe7u:>\\xbc \\xca\\xbd\\xd3{\\xab\\xbbq\\xe6\\x97\\xbdsm\\xb9\\xbdZ\\\\u005c\\x93<%\\x0b\\x8f>\\xf3\\x8a\\t\\xbd3:\\xbc<\\xbc\\x82c\\xbdI0m<w\\x8ab>\\x8f\\xc3\\xdd=o\\xc2\\x9c\\xbc\\xdbX(=\\xf9I\\xae=\\x8f\\\\u005cB<\\xd0\\x8b\\x94\\xbb\\xca\\x8d\\x88<@9\\'>\\xa1?%\\xbe\\x7f\\xb5\\xc5\\xbd\\xc57\\xf0>|J\\xb8<\\xa1%{?h\\xc0\\xa4\\xbe\\x13?\\x9e\\xbc\\xab\\x18\\xc3\\xbe\\x8e\\xff/\\xbe\\xa5\\x82v?\\xa5]\\'\\xbe 3\\xdb\\xbe\\xfe\\xa5\\\\u0000\\xbe.\\xad\\xcb\\xbeU\\x90\\x01\\xbfo1\\x9a\\xbe=p\\xa2=\\xb2Y\\x11>\\x98\\xc4\\x07<k\\xae\\x1b\\xbe\\x8e\\xd3\\x9b>\\xf8\\x8ar\\xbdKR\\\\u000a>\\x158#\\xbe\\xa6\\xd8\\xf2>\\xaf\\x8a\\xca\\xbe\\x10\\xd5\\xd4>-\\x11>\\xbes\\x8c\\xd2\\xbec\\\\u000a3\\xbe8\\\\u000aJ\\xbel\\xe0\\xc1>$7\\xe9=\\x02\\x05K\\xbe\\x96\\x88i\\xbe\\x90?\\x8e<\\x0fF\\x8a>\\xba\\x03\\xe9=|N\\xf0<D\\x86->\\xf3\\xd7+<\\xe8N(>7\\xe6H\\xbeG\\xbet\\xbe\\xb7\\xfb<>Z\"\\xc0\\xbdo\\xafO\\xbe=V\\x81\\xbd\\x88C\\x86\\xbdC\\xfc2\\xbd\\xc4XF\\xbd\\xfb]o\\xbe`\\xe8\\x9c\\xbd\\xd5\\xdfn\\xbdQ\\x96\\xd1\\xbdk\\\\u001a\\x80=\\xa3\\\\u0000\\x15>\\x93(c\\xbc\\x1b?\\xb0<\\x14\\xf6\\xa1\\xbe\\xf5;\\xb8>\\\\u000dk\\xf2\\xbd\\xa6\\xad\\xb4>\\xa9\\xef\\xb6\\xbe6G\\xe7>K\\x97<\\xbe\\xc8\\x9bD>\\x0el\\x01\\xbe\\xe7q\\x1b\\xbd3\\xf6\\x01?U\\x97\\xf6\\xbd\\xf0\\x98\\xa4\\xbd\\xbf\\xd8D>\\x08\\x7f\\xa5\\xbc\\'\\xea\\x16\\xbf\\x95\\x93#\\xbd#\\xd3T>9\\xa5\\x0f>\\x1e\\xe4\\x9d<\\xce\\xcc\\xe0\\xbc\\xb3\\x92\\xcb>h\\xd14\\xbe\"\\xe1G\\xbe\\xd5\\x0c\\xa4>\\x1d\\xf3\\xea\\xbe~8E\\xbd\\xcd\\xc1\\x83\\xbfv\\x11K=\\xb0\\xa5E>|\\x9aG\\xbeJ\\xa2\\xd4;)Ca?S\\x04w>\\xc4J\\x9a=\\x11\\xbc\\xaf=\\xae\\xa4@\\xbe\\x98\\x8d\\xf1\\xbc\\xfb\\xd2\\xa5\\xbcv\\xb4Y\\xbbc\\xc3_\\xbe\\xf2N\\xd2\\xbd\\xcf\\x05R\\xbe!\\xafT>\\xdcb\\xbe>i*\\x97=\\xfe\\x02\\xd6=\\xde\\x8f]>\\x11|I;\\xf8Y\\xf5=\\x94\\xe0\\x84\\xbexA\\x1d>`\\\\u000a\\xe1>6\\x90k\\xbd\\x11?\\x06<q\\xf2\\x9a>C\\xd2\\x02\\xbeSo\\x16>\\x91\\x03\\x11<{\"|\\xbdD\\\\u001a\\xcf\\xbe\\xdac|\\xbd\\xddD\\x9e\\xbd>\\xfc9\\xbe\\xbf8g\\xbe\\x03j\\x83>\\xf2m\\x93\\xbd\\xb4\\xbb\\xf6\\xbd\\xbe{\\x0b\\xbdY\\xec\\x8d=U1\\xc0>\\xab\\xa2\\xda\\xbb\\x8f\\x91\\'\\xbf\\x14\\xbew\\xbd/\\x07\\x8f\\xbd\\x94nu\\xbe\\x05L\\xfb\\xbd\\xca[\\x8a\\xbd\\xb5\\xd1\\x9f\\xbc\\\\u005c\\xd1\\xe7\\xbc8$S>6NU\\xbd\\xc8\\x08!\\xbfk9\\xca\\xbe\\xeePi\\xbe3\\x12\\x0b?l\\x898=\\x10\\xca\\x90?\\xce\\xcdq\\xbes-\\xd3>\\xfed\\xd4\\xbe\\xa1\\xbe\\x17>\\xc6Rh\\xbefv\\x01=\\x0b\\xdf\\xea;\\x92\\x19\\\\u0000?\\x81Q\\xf5>r\\x9c\\x82?\\xb4\\x16\\x8d\\xbd\\x1dp\\x91\\xbdw\\x88\\xb8\\xbd\\xbc\\xf7\\xff\\xbd?!\\x1b\\xbf/\\xb5\\xc0<I\\xfd>=\\x1f\\xf8\\x10=qt;\\xbd\\xb4\\x82\\xe0>n\\x10\\xb1\\xbe\\x81$\\x96>_\\x10\\x88\\xbe\\xf1\\x8a >\\xa5\\x8c\\xb0=1B\\xfd\\xbcr\\xb1\\xa0\\xbe\\x81\\x991<1\\xdb\\xdb=w\\xe18?\\xcar\\x82\\xbcm\\xaf\\xeb<\\xbe]\\xa9\\xbd\\xa1\\xc1C\\xbd\\np19\\ng7\\ntp20\\nRp21\\ntp22\\nbag2\\n(g3\\n(I0\\ntp23\\ng9\\ntp24\\nRp25\\n(I1\\n(I20\\ntp26\\ng16\\nI00\\ng5\\n(V\\x9f\\x18\\x0e?\\xbc\\xd2\\x1d\\xbf\\xeb`\\\\u0000>FI4>\\xf4\\xa1\\\\u001a\\xc0`\\xe2\\x0f\\xbf7\\xd1\\xcf\\xbe\\xd7\\x9c\\x88\\xbe)x\\xeb>I \\x8b\\xbf\\x9e\\xc6\\x89?\\xd3\\x9d\\x0b\\xc0:%\\x93\\xbf\\x0b\\xe4\\xff\\xbdx\\\\u000a\\x0c>3j\\xb2>\\'\\xf7O?w]d\\xbf\\xe0\\x84N\\xbe\\xc1B\\x81?\\np27\\ng7\\ntp28\\nRp29\\ntp30\\nbaa(lp31\\ng2\\n(g3\\n(I0\\ntp32\\ng9\\ntp33\\nRp34\\n(I1\\n(I20\\nI6\\ntp35\\ng16\\nI00\\ng5\\n(V.v\\x18>3\\xf0\\xa0\\xbfN\\xb2\\x08\\xbdR\\xd7\\x96\\xbe\\xce{\\x89\\xbf\\xf2\\xa43>\\xb6\\xc1\\\\u000a\\xbf\\x94\\xf9\\x9f\\xbd8\\xfaB?\\xb4u\\x9c\\xbe\\xc7\\xe6\\xbd=\\x9f\\xbb\\x8b>\\xbca->Q0\\xaa?\\xab\\xc3C\\xbel\\xcd\\x80\\xbe\\x14\\x89\\x81\\xbf4\\x9dl\\xbe\\x16\\x94Z\\xbf\\xe9\\xd7\\x02?\\xdd\\xdb\\x0b\\xbe\\x83C\\x95\\xbe\\x92\\xf6\\x18\\xbfm\\xb5\\x88\\xbe}+\\xa6\\xbc\\t22>\\xe8$\\\\u000a\\xbc\\xc1\\xb6\\xbb\\xbf\\x99\\x98\\x05@\\xcf\\xfc\\xc3\\xbd=N\\xfd\\xbdE\\xf1\\x92\\xbe\\xa3;\\x13\\xbf\\xab]\\xe9\\xbd\\xe0\\xba==\\xe3\\x8b\\xb5\\xbc\\x06x\\x87\\xbe[\\xad\\xe4\\xbe\\x8ai\\xa4<\\x0e\\xfbJ?\\xa7@\\xeb?GJ\\xb6\\xbd\\xaf\\x11\\xf0\\xbc(S\\x8a\\xbf;a\\x0e>[\\x8b\\xd2>\\x01\\x18\\x84\\xbf\\x9e\\xa1\\xf2<j(^>\\xde\\'\\x11>\\xa8\\x03f=N\\xe1j?\\x9d_\\x12?\\xa8\\xc6\\x10?;\\x8b\\x0c>8d\\x8d>Sb\\x1c\\xbee@\\x1e\\xc0\\x05\\xd09?\\xebq\\xb4\\xbd\\xd70\\xf4\\xbc\\xaeA\\\\u001a=\\t\\x07\\x9a\\xbe\\xd0\\\\u005c\\xe3>\\x04\\xe5\\x05?+g\\xe5>(\\x0b\\xd6<BF\\xb7<\\x9b\\xc1\\xe69(\\xc2P\\xbf\\xa5\\x1b\\\\u000a\\xc0\\xdd\\x8dn>\\xdf\\x9a\\xbe\\xbf\\xdc\\xc8\\xa5?\\x17C\\xbb<\\xe2P\\xd2=bK\\x91\\xbe\\x0b\\xa0\\x97>\\xf5\\xa3\\xe5=\\x1c\\xdd\\x8c\\xbe\\xcf4R?\\xa8A??\\x90a\\x17\\xbd(k$=\\xdb\\x82\\xb3>\\xbb<l?g\\x90\\x05?GJ\\x05\\xbf\\x0f+x\\xbf6m\\x15\\xbeK\\x0b7\\xbeq\\xdc8=\\x8cb0=E\\xe1A?\\xc7\\x8e\\xe2?Qe&\\xbe\\xe8\\xd6L@\\xe5}\\x1b\\xc0|\\xadI\\xbd\\x11\\x1c\\xfe\\xbd\\xd6r!\\xbd\\xa8\\x97\\x0e\\xbc\\xab%?\\xc0\\xb4_5\\xc0\\xf4`<\\xbdzNQ>\\xf8\\xdc\\\\u000a>\\xbf\\xbe\\xe1\\xbd\\xdc\\xaf\\xb4\\xbd\\xd9C\\xaa?M\\\\u000d\\xb2>\\xbfl\\xfc=U\\\\u000a\\x1f=\\xac\\xb5\\x07?\\xbca4?\\xb5\\x87\\xe9?\\xc9\\xc0\\xfd=G\\x02\\xd7>\\xd3\\xc1\\x98\\xbc\\xaa$!\\xbc\\np36\\ng7\\ntp37\\nRp38\\ntp39\\nbag2\\n(g3\\n(I0\\ntp40\\ng9\\ntp41\\nRp42\\n(I1\\n(I6\\ntp43\\ng16\\nI00\\ng5\\n(V+\\x96W<\\xf0\\xc5d>\\xe8\\x076>(\\x0b\\x1b>kk\\x8a\\xbe\\xe6\\xca\\x13=\\np44\\ng7\\ntp45\\nRp46\\ntp47\\nbaa.'\n",
    "\n",
    "deserialized = pickle.loads(serialized)\n",
    "\n",
    "print(deserialized)\n"
   ]
  },
  {
   "cell_type": "code",
   "execution_count": 28,
   "metadata": {},
   "outputs": [],
   "source": [
    "debug = [\n",
    "    0.3108125, 0.3878888888888889, -0.282, 0.308, -0.12777777777777777, 0.2561875, 0.822, \n",
    "    0.2586875, 0.32622222222222225, -0.297, 0.242, -0.2833333333333333, 0.2561875, 0.822, \n",
    "    0.4165, 0.3972222222222222, -0.119, 0.178, -0.3111111111111111, 0.2561875, 0.822, \n",
    "    0.1980625, 0.2788888888888889, -0.344, 0.116, -0.5333333333333333, 0.2561875, 0.822\n",
    "]\n"
   ]
  },
  {
   "cell_type": "code",
   "execution_count": 204,
   "metadata": {
    "scrolled": false
   },
   "outputs": [
    {
     "name": "stdout",
     "output_type": "stream",
     "text": [
      "w is (20, 28)\n",
      "sample is (28,)\n"
     ]
    },
    {
     "data": {
      "text/markdown": [
       "**manual - layer 1, pre-activation:**"
      ],
      "text/plain": [
       "<IPython.core.display.Markdown object>"
      ]
     },
     "metadata": {},
     "output_type": "display_data"
    },
    {
     "name": "stdout",
     "output_type": "stream",
     "text": [
      "[-0.00334713  0.38992725  0.45333406  0.3322857  -0.15615816  0.51716871\n",
      " -0.27932206  0.42670571  0.51259093  0.06551855  1.16183532  0.33996762\n",
      " -0.64195453  0.02812562 -0.5407886   0.20596988 -0.59775183  1.71661293\n",
      "  0.3918293   0.24064428]\n"
     ]
    },
    {
     "data": {
      "text/markdown": [
       "**manual - layer 1, output:**"
      ],
      "text/plain": [
       "<IPython.core.display.Markdown object>"
      ]
     },
     "metadata": {},
     "output_type": "display_data"
    },
    {
     "name": "stdout",
     "output_type": "stream",
     "text": [
      "[0.49916321704680106, 0.5962651857441623, 0.6114316434746013, 0.5823154176376595, 0.4610395987984918, 0.6264854770804469, 0.4306199894100857, 0.6050867476507197, 0.6254136522333735, 0.516373781871838, 0.7616660428792555, 0.5841826566382471, 0.3448048486769166, 0.507030942457415, 0.36800415331429287, 0.5513111987586075, 0.3548582076766027, 0.8476920463090961, 0.5967229875584363, 0.5598724169070156]\n",
      "w is (6, 20)\n",
      "[ 0.61586041 -0.06720676  0.70557835  0.36765557  0.2188203   0.73103741]\n"
     ]
    },
    {
     "data": {
      "text/markdown": [
       "**tensorflow - output**"
      ],
      "text/plain": [
       "<IPython.core.display.Markdown object>"
      ]
     },
     "metadata": {},
     "output_type": "display_data"
    },
    {
     "name": "stdout",
     "output_type": "stream",
     "text": [
      "[ 0.61586034 -0.06720666  0.7055783   0.36765558  0.21882021  0.73103744]\n",
      "615.8603429794312\n",
      "-67.20665842294693\n",
      "141.11566543579102\n",
      "367.65557527542114\n",
      "218.8202142715454\n",
      "146.2074875831604\n"
     ]
    },
    {
     "data": {
      "text/markdown": [
       "**tensorflow  - layer 1, output**"
      ],
      "text/plain": [
       "<IPython.core.display.Markdown object>"
      ]
     },
     "metadata": {},
     "output_type": "display_data"
    },
    {
     "name": "stdout",
     "output_type": "stream",
     "text": [
      "[[0.49916324 0.5962652  0.61143166 0.5823154  0.4610396  0.62648547\n",
      "  0.43061998 0.60508674 0.62541366 0.51637375 0.76166606 0.5841826\n",
      "  0.34480485 0.5070309  0.3680042  0.5513112  0.35485822 0.847692\n",
      "  0.59672296 0.5598724 ]]\n"
     ]
    }
   ],
   "source": [
    "import math\n",
    "\n",
    "def sigmoid(x):\n",
    "  return 1 / (1 + math.exp(-x))\n",
    "\n",
    "# Get data\n",
    "\n",
    "w = np.transpose(deserialized[0][0])\n",
    "b = np.transpose(deserialized[0][1])\n",
    "\n",
    "sample_id = 10\n",
    "sample = inputs[sample_id]\n",
    "\n",
    "print('w is', np.shape(w))\n",
    "print('sample is', np.shape(sample))\n",
    "\n",
    "l1 = np.dot(w, sample) + b\n",
    "\n",
    "printmd ('**manual - layer 1, pre-activation:**')\n",
    "print(l1)\n",
    "\n",
    "result = [sigmoid(x) for x in l1]\n",
    "\n",
    "printmd ('**manual - layer 1, output:**')\n",
    "print(result)\n",
    "\n",
    "w = np.transpose(deserialized[1][0])\n",
    "b = np.transpose(deserialized[1][1])\n",
    "\n",
    "print('w is', np.shape(w))\n",
    "\n",
    "l2 = np.dot(w, result) + b\n",
    "\n",
    "print(l2)\n",
    "\n",
    "# Tensorflow results\n",
    "\n",
    "p = model.predict(np.array(inputs)[sample_id:sample_id + 1])\n",
    "printmd('**tensorflow - output**')\n",
    "print(p[0])\n",
    "print(p[0][0] * 1000)\n",
    "print(p[0][1] * 1000)\n",
    "print(p[0][2] * 200)\n",
    "print(p[0][3] * 1000)\n",
    "print(p[0][4] * 1000)\n",
    "print(p[0][5] * 200)\n",
    "\n",
    "#pod1 = Pod(Point(p))\n",
    "\n",
    "layer_output = model.layers[0].output\n",
    "\n",
    "intermediate_model = tf.keras.models.Model(inputs = model.input, outputs = layer_output)\n",
    "\n",
    "intermediate_prediction = intermediate_model.predict(np.array(inputs)[sample_id:sample_id + 1])\n",
    "\n",
    "printmd('**tensorflow  - layer 1, output**')\n",
    "print(intermediate_prediction)\n",
    "\n",
    "\n"
   ]
  },
  {
   "cell_type": "code",
   "execution_count": 235,
   "metadata": {},
   "outputs": [
    {
     "name": "stdout",
     "output_type": "stream",
     "text": [
      "Frame(pods=[Pod(position=Point(x=0.332, y=0.6406666666666667), speed=Point(x=0.6694117647058824, y=0.015294117647058824), angle=0.21666666666666667, waypoint=Point(x=0.593875, y=0.48688888888888887)), Pod(position=Point(x=0.439375, y=0.7045555555555556), speed=Point(x=0.7647058823529411, y=-0.6058823529411764), angle=-0.2111111111111111, waypoint=Point(x=0.593875, y=0.48688888888888887)), Pod(position=Point(x=0.2825, y=0.6996666666666667), speed=Point(x=0.37058823529411766, y=-0.19647058823529412), angle=-0.12222222222222222, waypoint=Point(x=0.593875, y=0.48688888888888887)), Pod(position=Point(x=0.3453125, y=0.7748888888888888), speed=Point(x=0.7447058823529412, y=-0.17294117647058824), angle=-0.07222222222222222, waypoint=Point(x=0.593875, y=0.48688888888888887))], actions=[Action(aim=Point(x=0.9190819888409161, y=0.39406636216280383), power=0.0), Action(aim=Point(x=0.9622746177836934, y=-0.2720800616900231), power=1.0)])\n",
      "\n",
      "[0.332, 0.6406666666666667, 0.6694117647058824, 0.015294117647058824, 0.21666666666666667, 0.593875, 0.48688888888888887, 0.439375, 0.7045555555555556, 0.7647058823529411, -0.6058823529411764, -0.2111111111111111, 0.593875, 0.48688888888888887, 0.2825, 0.6996666666666667, 0.37058823529411766, -0.19647058823529412, -0.12222222222222222, 0.593875, 0.48688888888888887, 0.3453125, 0.7748888888888888, 0.7447058823529412, -0.17294117647058824, -0.07222222222222222, 0.593875, 0.48688888888888887]\n"
     ]
    }
   ],
   "source": [
    "print(frames[10])\n",
    "print()\n",
    "print(inputs[10])\n"
   ]
  },
  {
   "cell_type": "code",
   "execution_count": null,
   "metadata": {},
   "outputs": [],
   "source": []
  }
 ],
 "metadata": {
  "kernelspec": {
   "display_name": "Python 3",
   "language": "python",
   "name": "python3"
  },
  "language_info": {
   "codemirror_mode": {
    "name": "ipython",
    "version": 3
   },
   "file_extension": ".py",
   "mimetype": "text/x-python",
   "name": "python",
   "nbconvert_exporter": "python",
   "pygments_lexer": "ipython3",
   "version": "3.8.5"
  }
 },
 "nbformat": 4,
 "nbformat_minor": 2
}
